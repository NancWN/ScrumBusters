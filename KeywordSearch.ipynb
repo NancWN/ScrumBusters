{
  "nbformat": 4,
  "nbformat_minor": 0,
  "metadata": {
    "colab": {
      "name": "KeywordSearch.ipynb",
      "provenance": [],
      "collapsed_sections": [],
      "authorship_tag": "ABX9TyMG6W+B3hP9LZB1YYVLAYk3",
      "include_colab_link": true
    },
    "kernelspec": {
      "name": "python3",
      "display_name": "Python 3"
    },
    "language_info": {
      "name": "python"
    }
  },
  "cells": [
    {
      "cell_type": "markdown",
      "metadata": {
        "id": "view-in-github",
        "colab_type": "text"
      },
      "source": [
        "<a href=\"https://colab.research.google.com/github/NancWN/ScrumBusters/blob/main/KeywordSearch.ipynb\" target=\"_parent\"><img src=\"https://colab.research.google.com/assets/colab-badge.svg\" alt=\"Open In Colab\"/></a>"
      ]
    },
    {
      "cell_type": "markdown",
      "source": [
        "What can it do?:\n",
        "it takes a predefined list of keywords which is divided between pump and no_pump words. it uses the list to search trough chat data. if a match is found, the group name, the word and label is written down in a seperate list.\n",
        "\n",
        "Requirements:\n",
        "1. upload a list with Keywords you want to search for\n",
        "2. provide chat data from telegram groups in CSV format\n",
        "3. adjust the path in the code\n",
        "\n",
        "Lets go! :)"
      ],
      "metadata": {
        "id": "iJX5qK43TmPO"
      }
    },
    {
      "cell_type": "code",
      "execution_count": null,
      "metadata": {
        "id": "ZBRe-FhrTV85"
      },
      "outputs": [],
      "source": [
        "import csv\n",
        "import pandas as pd \n",
        "\n",
        "#List of Keywords we want to search\n",
        "lists=pd.read_csv(\"keywordList.csv\", sep=';')\n",
        "pump_words=lists[\"pump\"]\n",
        "no_pump_words=lists[\"no_pump\"]\n",
        "\n",
        "#telegram chat export (csv-file)\n",
        "searchlists=pd.read_csv(\"chatdata.csv\", sep=';',na_values = ['no info', '.'])\n",
        "\n",
        "\n",
        "\n",
        "#searching for a keyword in our telegram chat export\n",
        "def main(keyword):\n",
        "    count=-1\n",
        "    for i in range(len(searchlists)):\n",
        "        count=count+1\n",
        "        text=searchlists.iloc[count,1].lower()\n",
        "        words = text.split(' ') \n",
        "        for word in words:\n",
        "            if word==keyword:\n",
        "                result=word\n",
        "                group=searchlists.iloc[count,0]\n",
        "                pump=labeling(result)\n",
        "                write_to_csv([group, result, pump])\n",
        "       \n",
        "    \n",
        "#lableling our found words -> here labeling can be extended                    \n",
        "def labeling(word):\n",
        "    count=-1\n",
        "    label=\"unknown\"\n",
        "    for j in pump_words:\n",
        "        count=count+1\n",
        "        if word == pump_words.iloc[count]: \n",
        "            label=True\n",
        "            break\n",
        "    \n",
        "    count=-1\n",
        "    for k in no_pump_words:\n",
        "        count=count+1\n",
        "        if word == no_pump_words.iloc[count]: \n",
        "            label=False \n",
        "            break\n",
        "\n",
        "    return label   \n",
        "    \n",
        "    \n",
        "#going through our whole list of possible keywords\n",
        "for keyword in pump_words: \n",
        "    main(keyword)\n",
        "         \n",
        "for keyword in no_pump_words: \n",
        "    main(keyword)"
      ]
    },
    {
      "cell_type": "code",
      "source": [
        "def write_to_csv(list_input):\n",
        "    # The scraped info will be written to a CSV here.\n",
        "    try:\n",
        "        with open(\"labelingKeywords.csv\", \"a\") as fopen:  # Open the csv file.\n",
        "            csv_writer = csv.writer(fopen)\n",
        "            csv_writer.writerow(list_input)\n",
        "    except:\n",
        "        return False"
      ],
      "metadata": {
        "id": "f_9XPFUKUvnn"
      },
      "execution_count": null,
      "outputs": []
    }
  ]
}