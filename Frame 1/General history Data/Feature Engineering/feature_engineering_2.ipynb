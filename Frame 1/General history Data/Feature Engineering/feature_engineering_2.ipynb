{
 "cells": [
  {
   "cell_type": "code",
   "execution_count": null,
   "metadata": {},
   "outputs": [],
   "source": [
    "# imports\n",
    "import requests\n",
    "import json\n",
    "import pandas as pd\n",
    "import numpy as np\n",
    "from os import listdir\n",
    "from os.path import isfile, join\n",
    "import inspect\n",
    "\n",
    "# settings to load data\n",
    "mypath = '/Users/nancynyambura/Desktop/Digital Shaper Program/ScrumBusters/Frame 1/Telegram/data/04_raw_financial/'\n",
    "\n",
    "onlyfiles = [mypath + f for f in listdir(mypath) if (isfile(join(mypath, f)))]\n",
    "\n",
    "onlyfiles = [f for f in onlyfiles if 'simplified' in f ]\n"
   ]
  },
  {
   "cell_type": "code",
   "execution_count": null,
   "metadata": {},
   "outputs": [],
   "source": [
    "#%cd G:\\Meine Ablage\\TechLabs\\Scam Busters\n",
    "%cd /Users/nancynyambura/Desktop/Digital Shaper Program"
   ]
  },
  {
   "cell_type": "code",
   "execution_count": null,
   "metadata": {},
   "outputs": [],
   "source": [
    "time_to_pump = 5\n",
    "expected_pump_row = -30"
   ]
  },
  {
   "cell_type": "code",
   "execution_count": null,
   "metadata": {},
   "outputs": [],
   "source": [
    "max_possible_return = test_df.iloc[-30:-25].high.max() / test_df.iloc[-40:-31].low.min()"
   ]
  },
  {
   "cell_type": "code",
   "execution_count": null,
   "metadata": {},
   "outputs": [],
   "source": [
    "test_df = pd.read_csv(onlyfiles[7],index_col=0)\n",
    "test_df['open_time'] = pd.to_datetime(test_df['open_time'],unit='ms') # turnes unix time to datetime\n",
    "idxmax = (test_df.high/test_df.open).idxmax()\n",
    "print(idxmax,(test_df.high/test_df.open)[idxmax])"
   ]
  },
  {
   "cell_type": "code",
   "execution_count": null,
   "metadata": {},
   "outputs": [],
   "source": [
    "test_df.n_trades.plot()"
   ]
  },
  {
   "cell_type": "code",
   "execution_count": null,
   "metadata": {},
   "outputs": [],
   "source": [
    "test_df.high.plot()"
   ]
  },
  {
   "cell_type": "code",
   "execution_count": null,
   "metadata": {},
   "outputs": [],
   "source": [
    "(test_df.high.rolling(5).max() / test_df.high.rolling(5).min()).plot()"
   ]
  },
  {
   "cell_type": "code",
   "execution_count": null,
   "metadata": {},
   "outputs": [],
   "source": [
    "def pump_success_indicator(file):\n",
    "    df = pd.read_csv(file)\n",
    "    high, open = df.high, df.open\n",
    "    idx_indicator = (high/open).idxmax()\n",
    "    indicator = (high/open)[idx_indicator]\n",
    "    high_max=df['high'].rolling(2).max()\n",
    "    open_max=df['open'].rolling(2).max()\n",
    "    open_max = open_max.dropna().reset_index(drop=True)\n",
    "    max_possible_return = df.iloc[-40:-25].high.max() / df.iloc[-40:-25].low.min()\n",
    "    max_5m_return = (high_max/open_max).dropna().max()\n",
    "    max_5m_return_idx = (high_max/open_max).dropna().idxmax()\n",
    "    return {'indicator':indicator, 'idx_indicator':idx_indicator,\n",
    "        'max_possible_return':max_possible_return}\n",
    "\n",
    "all_indicators = pd.DataFrame([\n",
    "    pump_success_indicator(file)\n",
    "    for file\n",
    "    in onlyfiles\n",
    "])"
   ]
  },
  {
   "cell_type": "code",
   "execution_count": null,
   "metadata": {},
   "outputs": [],
   "source": [
    "all_indicators.sort_values('max_possible_return').iloc[50:]"
   ]
  },
  {
   "cell_type": "code",
   "execution_count": null,
   "metadata": {},
   "outputs": [],
   "source": [
    "test_df = pd.read_csv(onlyfiles[10])\n",
    "test_df.open.plot()"
   ]
  },
  {
   "cell_type": "code",
   "execution_count": null,
   "metadata": {},
   "outputs": [],
   "source": [
    "# cut dataframe to end just before the pump\n",
    "def get_prepump_df(df):\n",
    "    ()"
   ]
  },
  {
   "cell_type": "code",
   "execution_count": null,
   "metadata": {},
   "outputs": [],
   "source": [
    "def returns_before_pump(df,hours_to_pump):\n",
    "    '''returns the ROI if investing hours_to_pump \n",
    "    number of hours before the exit and exiting\n",
    "    time_to_pump minutes before the pump'''\n",
    "    \n",
    "    return 1"
   ]
  },
  {
   "cell_type": "code",
   "execution_count": null,
   "metadata": {},
   "outputs": [],
   "source": [
    "#SimpleFeatures\n",
    "\n",
    "\n",
    "\n",
    "def summe(df,cols):\n",
    "    res = [\n",
    "        df[col].sum()\n",
    "        for col in cols\n",
    "    ]\n",
    "    return res\n",
    "\n",
    "def durchsch(df,cols):\n",
    "    res = [\n",
    "    df[col].mean()\n",
    "    for col in cols\n",
    "]\n",
    "    return res\n",
    "\n",
    "def maximum(df,cols):\n",
    "    res = [\n",
    "        df[col].max()\n",
    "        for col in cols\n",
    "    ]\n",
    "    return res\n",
    "\n",
    "# logarithm of column^^\n",
    "def logarithmus(df,cols):\n",
    "    res = [\n",
    "        df[col].log()\n",
    "        for col in cols\n",
    "    ]\n",
    "    return res\n",
    "\n",
    "# daily return\n",
    "def verhaeltnis(df,cols):\n",
    "    res = [\n",
    "    (df[col]/df[cols])-1\n",
    "    for col in cols\n",
    "    ]\n",
    "    return res\n",
    "\n",
    "def schnitt(df,cols):\n",
    "    res = [\n",
    "        df[col].mean() \n",
    "            for col in cols\n",
    "    ]\n",
    "    return res\n",
    "\n",
    "\n",
    "def standard(df,cols):\n",
    "    res = [\n",
    "        df[col].std() \n",
    "            for col in cols\n",
    "    ]\n",
    "    return res\n",
    "\n",
    "# maximum difference between \n",
    "def m_potential(df):\n",
    "    res = (df['high']/df['open'])\n",
    "    return res\n",
    "\n",
    "#a prepump ?\n",
    "def will_pump(df,cols,s_val): # cut = -31 for pre pump data, s_val has range between 1-3\n",
    "    sigma = s_val*standard(df,cols) + schnitt(df,cols)\n",
    "    if df[cols].max()>= sigma:\n",
    "        return True\n",
    "    else :\n",
    "        return False\n",
    "    \n",
    "def is_pump(df,cols,s_val): # cut = -31 for pre pump data, s_val has range between 1-3\n",
    "    df =df.iloc[:] \n",
    "    sigma = s_val*standard(df,cols) + schnitt(df,cols)\n",
    "    if df[cols].max()>= sigma:\n",
    "        return True\n",
    "    else :\n",
    "        return False\n",
    "\n",
    "def start_bot(df):\n",
    "    if will_pump() == True:\n",
    "        t = df.open_time()       # hier soll der Zeitpunkt des ersten Wertes\n",
    "        range_t = (-31) - t      # als t gespeicehrt werden, der den Sigma wert überschreitet\n",
    "    return  range_t               \n",
    "    \n",
    "\n",
    "def trade_per_vol(df):\n",
    "    a = df.n_trades.sum()\n",
    "    b = df.volume.sum()\n",
    "    c = a/b\n",
    "    return c\n",
    "\n",
    "#def admins_budget(df):  # could be an indicator of how much profit is expected\n",
    "    # time_range = start_bot(df) - 31\n",
    "    # sum of buyers volume\n",
    "    # may indicate roi in percent.\n",
    "    \n",
    "# Im Intervall der Abweichung +- 3*Sigma\n",
    "# vom Erwartungswert sind 99,73 % aller Messwerte zu finden.\n",
    "# trading win without participating in the pump event. Buy 1 hour before and sell 2h after pump for eg\n",
    "\n",
    "\n",
    "# more complex features and combining them to higher lvl features\n",
    "#marcetcap data\n",
    "\n",
    "\n",
    "#will_pump(df,cols=['volume'],s_val=3)"
   ]
  },
  {
   "cell_type": "code",
   "execution_count": null,
   "metadata": {},
   "outputs": [],
   "source": [
    "# full engineering for a single df\n",
    "def compute_features(df):\n",
    "    features = {\n",
    "        'f01':summe(df,df.volume),\n",
    "        'f02':maximum(df,df.volume),\n",
    "        'f03':standard(df,df.volume),\n",
    "        'f04':durchsch(df.df.volume),\n",
    "        'f04':standard(df,df.n_trades),\n",
    "    }\n",
    "    return features"
   ]
  },
  {
   "cell_type": "code",
   "execution_count": null,
   "metadata": {},
   "outputs": [],
   "source": [
    "# get all features\n",
    "engineered_df = pd.concat([\n",
    "    compute_features(pd.read_csv(file))\n",
    "    for file\n",
    "    in onlyfiles\n",
    "])"
   ]
  },
  {
   "cell_type": "code",
   "execution_count": null,
   "metadata": {},
   "outputs": [],
   "source": [
    "# add the label\n",
    "# pump column\n",
    "pump_column = pd.read_csv('/Users/nancynyambura/Desktop/Digital Shaper Program/ScrumBusters/Frame 1/Telegram/data/label_dataset - [filename_suspicious_messages].csv')\n",
    "pump_column['datetime'] = pump_column['datetime'].dt.strftime('%Y-%m-%d %H:%M:%S')\n",
    "engineered_df = pd.merge(engineered_df, pump_column, left_on= 'open_time', right_on='datetime', how = 'left').drop(['Unnamed: 0', 'symbol'], axis = 1)\n",
    "\n"
   ]
  },
  {
   "cell_type": "code",
   "execution_count": null,
   "metadata": {},
   "outputs": [],
   "source": [
    "'''# add market cap\n",
    "market_cap_df = pd.read_csv('Frame 1\\General history Data\\Feature Engineering\\market_cap.csv')\n",
    "engineered_df = pd.merge(engineered_df, market_cap_df, left_on= 'coinnames', right_on='symbol', how = 'left').drop(['Unnamed: 0', 'symbol'], axis = 1)\n",
    "engineered_df.market_cap = engineered_df.market_cap.fillna(market_cap_df.market_cap.min()*0.001)'''"
   ]
  },
  {
   "cell_type": "code",
   "execution_count": null,
   "metadata": {},
   "outputs": [],
   "source": [
    "engineered_df.to_csv('Samples/financial_data/engineered/sample.csv')"
   ]
  }
 ],
 "metadata": {
  "interpreter": {
   "hash": "65dee9a9d1a923d78ab16c84a55db276e0248384890ce461db8ba4ddd71fba4b"
  },
  "kernelspec": {
   "display_name": "Python 3.9.10 ('busters')",
   "language": "python",
   "name": "python3"
  },
  "language_info": {
   "codemirror_mode": {
    "name": "ipython",
    "version": 3
   },
   "file_extension": ".py",
   "mimetype": "text/x-python",
   "name": "python",
   "nbconvert_exporter": "python",
   "pygments_lexer": "ipython3",
   "version": "3.8.8"
  },
  "orig_nbformat": 4
 },
 "nbformat": 4,
 "nbformat_minor": 2
}
