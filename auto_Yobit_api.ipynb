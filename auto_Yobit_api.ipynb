{
  "nbformat": 4,
  "nbformat_minor": 0,
  "metadata": {
    "colab": {
      "name": "auto Yobit api.ipynb",
      "provenance": [],
      "collapsed_sections": [],
      "private_outputs": true,
      "authorship_tag": "ABX9TyPzl+1dpSXkOqOJw+yrXlsf",
      "include_colab_link": true
    },
    "kernelspec": {
      "name": "python3",
      "display_name": "Python 3"
    },
    "language_info": {
      "name": "python"
    }
  },
  "cells": [
    {
      "cell_type": "markdown",
      "metadata": {
        "id": "view-in-github",
        "colab_type": "text"
      },
      "source": [
        "<a href=\"https://colab.research.google.com/github/NancWN/ScrumBusters/blob/main/auto_Yobit_api.ipynb\" target=\"_parent\"><img src=\"https://colab.research.google.com/assets/colab-badge.svg\" alt=\"Open In Colab\"/></a>"
      ]
    },
    {
      "cell_type": "markdown",
      "source": [
        "please enter the time frame in seconds (every 5 minutes = 300 seconds)"
      ],
      "metadata": {
        "id": "FhAnTx1yNM6W"
      }
    },
    {
      "cell_type": "code",
      "execution_count": null,
      "metadata": {
        "id": "uO4M1vz06DKU"
      },
      "outputs": [],
      "source": [
        "import requests\n",
        "import json\n",
        "import pandas\n",
        "import time"
      ]
    },
    {
      "cell_type": "code",
      "source": [
        "def get_pairs_name():\n",
        "  response = requests.get(\"https://yobit.net/api/3/info\").json() #parings requesten\n",
        "  pairings = response['pairs']\n",
        "  pairings_df = pandas.DataFrame.from_dict(pairings)\n",
        "  pairings_list = pairings_df.columns\n",
        "  return pairings_list[0:50] #numbers of pair names\n"
      ],
      "metadata": {
        "id": "3ejFlh6n_1p7"
      },
      "execution_count": null,
      "outputs": []
    },
    {
      "cell_type": "code",
      "source": [
        "def search_coin():\n",
        "  lists=get_pairs_name()\n",
        "  response_list = []\n",
        "  for pairing in lists: \n",
        "      if 'btc' in pairing:\n",
        "          # daten von api       \n",
        "          response = requests.get('https://yobit.net/api/3/trades/'+pairing).json()\n",
        "\n",
        "          try:\n",
        "              # strukturieren\n",
        "              df = pandas.DataFrame(response.get(pairing))\n",
        "          # bei fehlern einfach überspringen\n",
        "          except AttributeError:\n",
        "              continue\n",
        "          df['pairing'] = pairing\n",
        "          # sammeln\n",
        "          response_list.append(df)\n",
        "  \n",
        "  return response_list"
      ],
      "metadata": {
        "id": "VQxL5s1eAGB1"
      },
      "execution_count": null,
      "outputs": []
    },
    {
      "cell_type": "code",
      "source": [
        "def auto_search(timeframe):\n",
        "  while True:\n",
        "   response_list=search_coin()\n",
        "   data_complete = pandas.concat(response_list)\n",
        "   data_complete.reset_index(inplace=True,drop=True)\n",
        "   print(data_complete[:200]) #output of data\n",
        "   time.sleep(timeframe) \n"
      ],
      "metadata": {
        "id": "VwxpVMQ6AjUv"
      },
      "execution_count": null,
      "outputs": []
    },
    {
      "cell_type": "code",
      "source": [
        " #in which time frame the call should happen (every 5 minutes = 300sec)\n",
        " auto_search(120)"
      ],
      "metadata": {
        "id": "5lF7blN3Bh0G"
      },
      "execution_count": null,
      "outputs": []
    }
  ]
}