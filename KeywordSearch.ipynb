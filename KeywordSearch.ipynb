{
  "cells": [
    {
      "cell_type": "markdown",
      "metadata": {
        "colab_type": "text",
        "id": "view-in-github"
      },
      "source": [
        "<a href=\"https://colab.research.google.com/github/NancWN/ScrumBusters/blob/main/KeywordSearch.ipynb\" target=\"_parent\"><img src=\"https://colab.research.google.com/assets/colab-badge.svg\" alt=\"Open In Colab\"/></a>"
      ]
    },
    {
      "cell_type": "markdown",
      "metadata": {
        "id": "iJX5qK43TmPO"
      },
      "source": [
        "What can it do?:\n",
        "it takes a predefined list of keywords which is divided between pump and no_pump words. it uses the list to search trough chat data. if a match is found, the group name, the word and label is written down in a seperate list.\n",
        "\n",
        "Requirements:\n",
        "1. upload a list with Keywords you want to search for\n",
        "2. provide chat data from telegram groups in CSV format\n",
        "3. adjust the path in the code\n",
        "\n",
        "Lets go! :)"
      ]
    },
    {
      "cell_type": "code",
      "execution_count": 116,
      "metadata": {},
      "outputs": [],
      "source": [
        "# settings\n",
        "# feel free to change settings here\n",
        "# only change other cells if you know what you are doing\n",
        "keyword_set = 'paper' # choose one of 'paper', 'brainstorm', 'mixed'\n",
        "message_path = 'data/sample/messages.csv' # put in the path of the message file"
      ]
    },
    {
      "cell_type": "code",
      "execution_count": 117,
      "metadata": {},
      "outputs": [],
      "source": [
        "# import libraries, load message data and keyword list\n",
        "import csv\n",
        "import pandas as pd \n",
        "\n",
        "#List of Keywords we want to search\n",
        "# lists=pd.read_csv(\"keywordList.csv\", sep=';')\n",
        "\n",
        "lists = pd.read_csv('references/{}_kw.csv'.format(keyword_set),index_col=0)\n",
        "lists.columns=['pump','no_pump']\n",
        "\n",
        "pump_words=lists[\"pump\"].dropna()\n",
        "no_pump_words=lists[\"no_pump\"].dropna()\n",
        "\n",
        "#telegram chat export (csv-file)\n",
        "searchlists=pd.read_csv(message_path, sep=',',na_values = ['no info', '.'])\n",
        "searchlists.text= searchlists.text.astype('str')"
      ]
    },
    {
      "cell_type": "code",
      "execution_count": 118,
      "metadata": {},
      "outputs": [],
      "source": [
        "# simple function to state if a substring was found in a string\n",
        "# this is not necessary but it's easier to understand than alternative solutions\n",
        "def key_found(key,msg):\n",
        "    if key in str(msg):\n",
        "        return True\n",
        "    else:\n",
        "        return False"
      ]
    },
    {
      "cell_type": "code",
      "execution_count": 119,
      "metadata": {},
      "outputs": [],
      "source": [
        "# iterate over keyword list\n",
        "# create new col per keyword to state if the keyword was found in the message\n",
        "for keyword in pump_words:\n",
        "    searchlists.loc[:,keyword] = [\n",
        "        key_found(keyword, msg)\n",
        "        for msg\n",
        "        in searchlists.text\n",
        "    ]\n",
        "    searchlists.text = [\n",
        "        msg.replace(keyword,'**'+keyword+'**')\n",
        "        for msg in searchlists.text\n",
        "    ]\n",
        "\n",
        "# same process for no pump words\n",
        "for keyword in no_pump_words:\n",
        "    searchlists.loc[:,keyword] = [\n",
        "        key_found(keyword, msg)\n",
        "        for msg\n",
        "        in searchlists.text\n",
        "    ]\n",
        "searchlists.text = [\n",
        "        msg.replace(keyword,'##'+keyword+'##')\n",
        "        for msg in searchlists.text\n",
        "    ]\n",
        "\n",
        "# get the number of keywords found per message\n",
        "searchlists.loc[:,'n_pump_words'] = (searchlists[pump_words]).sum(axis=1)\n",
        "searchlists.loc[:,'n_nopump_words'] = (searchlists[no_pump_words]).sum(axis=1)\n",
        "searchlists.loc[:,'n_words'] = searchlists.n_pump_words + searchlists.n_nopump_words\n",
        "\n",
        "searchlists.sort_values('n_words',ascending=False,inplace=True)\n",
        "msg_sus_df = searchlists.loc[searchlists.n_words>0][['text','date','chat','n_words']]"
      ]
    },
    {
      "cell_type": "code",
      "execution_count": 122,
      "metadata": {},
      "outputs": [
        {
          "ename": "TypeError",
          "evalue": "to_csv() got an unexpected keyword argument 'ignore_index'",
          "output_type": "error",
          "traceback": [
            "\u001b[1;31m---------------------------------------------------------------------------\u001b[0m",
            "\u001b[1;31mTypeError\u001b[0m                                 Traceback (most recent call last)",
            "\u001b[1;32mg:\\Meine Ablage\\TechLabs\\Scam Busters\\KeywordSearch.ipynb Cell 7'\u001b[0m in \u001b[0;36m<module>\u001b[1;34m\u001b[0m\n\u001b[1;32m----> <a href='vscode-notebook-cell:/g%3A/Meine%20Ablage/TechLabs/Scam%20Busters/KeywordSearch.ipynb#ch0000032?line=0'>1</a>\u001b[0m msg_sus_df\u001b[39m.\u001b[39;49mto_csv(\u001b[39m'\u001b[39;49m\u001b[39mdata/chats/sus_msgs_\u001b[39;49m\u001b[39m{}\u001b[39;49;00m\u001b[39m.csv\u001b[39;49m\u001b[39m'\u001b[39;49m\u001b[39m.\u001b[39;49mformat(keyword_set),ignore_index \u001b[39m=\u001b[39;49m \u001b[39mTrue\u001b[39;49;00m)\n",
            "\u001b[1;31mTypeError\u001b[0m: to_csv() got an unexpected keyword argument 'ignore_index'"
          ]
        }
      ],
      "source": [
        "msg_sus_df.to_csv('data/chats/sus_msgs_{}.csv'.format(keyword_set))"
      ]
    }
  ],
  "metadata": {
    "colab": {
      "authorship_tag": "ABX9TyMG6W+B3hP9LZB1YYVLAYk3",
      "collapsed_sections": [],
      "include_colab_link": true,
      "name": "KeywordSearch.ipynb",
      "provenance": []
    },
    "kernelspec": {
      "display_name": "Python 3",
      "name": "python3"
    },
    "language_info": {
      "codemirror_mode": {
        "name": "ipython",
        "version": 3
      },
      "file_extension": ".py",
      "mimetype": "text/x-python",
      "name": "python",
      "nbconvert_exporter": "python",
      "pygments_lexer": "ipython3",
      "version": "3.9.10"
    }
  },
  "nbformat": 4,
  "nbformat_minor": 0
}
