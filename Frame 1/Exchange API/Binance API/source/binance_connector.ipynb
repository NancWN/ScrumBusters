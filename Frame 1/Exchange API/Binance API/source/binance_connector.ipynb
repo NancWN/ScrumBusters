{
 "cells": [
  {
   "cell_type": "code",
   "execution_count": 116,
   "metadata": {},
   "outputs": [],
   "source": [
    "from binance.spot import Spot\n",
    "client = Spot(base_url ='https://api2.binance.com')\n",
    "#cap_client = Spot(endpoint='https://www.binance.com/exchange-api/v2/public/asset-service/product/get-products')\n",
    "import pandas as pd\n",
    "from datetime import datetime as dt\n",
    "from math import ceil\n",
    "import os"
   ]
  },
  {
   "cell_type": "code",
   "execution_count": 117,
   "metadata": {},
   "outputs": [
    {
     "name": "stdout",
     "output_type": "stream",
     "text": [
      "G:\\Meine Ablage\\TechLabs\\Scam Busters\n"
     ]
    }
   ],
   "source": [
    "%cd G:\\Meine Ablage\\TechLabs\\Scam Busters"
   ]
  },
  {
   "cell_type": "code",
   "execution_count": 118,
   "metadata": {},
   "outputs": [],
   "source": [
    "data_root=r'data\\03_label_dataset'\n",
    "files = os.listdir(data_root)"
   ]
  },
  {
   "cell_type": "code",
   "execution_count": 119,
   "metadata": {},
   "outputs": [],
   "source": [
    "#%cd .."
   ]
  },
  {
   "cell_type": "markdown",
   "metadata": {},
   "source": [
    "hier anpassen\n",
    "\n"
   ]
  },
  {
   "cell_type": "code",
   "execution_count": 121,
   "metadata": {},
   "outputs": [],
   "source": [
    "pumps_df = pd.read_csv(data_root+'/'+files[0])"
   ]
  },
  {
   "cell_type": "code",
   "execution_count": null,
   "metadata": {},
   "outputs": [],
   "source": [
    "# pumps_df=pd.DataFrame([{\n",
    "#     'exchange':'binance',\n",
    "#     'datetime':'2020-10-18 18:00:18+00:00',\n",
    "#     'coin':'oax'\n",
    "# }])"
   ]
  },
  {
   "cell_type": "code",
   "execution_count": null,
   "metadata": {},
   "outputs": [],
   "source": [
    "binance_pumps = pumps_df.loc[pumps_df.exchange =='binance'].copy()\n",
    "binance_pumps.loc[:,'datetime'] = pd.to_datetime([\n",
    "    dtstring[:-6]\n",
    "    for dtstring in binance_pumps.datetime\n",
    "])\n",
    "from datetime import timezone\n",
    "binance_pumps.loc[:,'tz_utc'] = [\n",
    "    dt_value.replace(tzinfo=timezone.utc).timestamp()\n",
    "    for dt_value in binance_pumps.datetime\n",
    "]"
   ]
  },
  {
   "cell_type": "code",
   "execution_count": null,
   "metadata": {},
   "outputs": [],
   "source": [
    "# set input parameters\n",
    "# pairing_list = [INPT]\n",
    "end_date = dt.now()\n",
    "timeframe_d = 365"
   ]
  },
  {
   "cell_type": "code",
   "execution_count": null,
   "metadata": {},
   "outputs": [],
   "source": [
    "# col names\n",
    "cols = [\n",
    "    'open_time',\n",
    "    'open',\n",
    "    'high',\n",
    "    'low',\n",
    "    'close',\n",
    "    'volume',\n",
    "    'close_time',\n",
    "    'quote_asset_volume',\n",
    "    'n_trades',\n",
    "    'taker_buy_base_asset_volume',\n",
    "    'taker_buy_quote_asset_volume',\n",
    "    'ignore'\n",
    "]"
   ]
  },
  {
   "cell_type": "code",
   "execution_count": null,
   "metadata": {},
   "outputs": [],
   "source": [
    "def get_endtimes(range_d, final_datetime):\n",
    "    calls_n = ceil(range_d*24*60/1000)\n",
    "    # convert final datetime to unix timestamp\n",
    "    final_datetime= final_datetime.replace(second=0, microsecond=0)\n",
    "    final_ts = int(dt.timestamp(final_datetime)*1000)\n",
    "    # create anchor values\n",
    "    anchors = range(-calls_n,1)\n",
    "    # turn anchor values into timestamps for the api call\n",
    "    call_times = [\n",
    "        60*1000*1000*anchor + final_ts\n",
    "        for anchor in anchors\n",
    "    ]\n",
    "    return call_times"
   ]
  },
  {
   "cell_type": "code",
   "execution_count": null,
   "metadata": {},
   "outputs": [],
   "source": [
    "def klines_call(pairing,end):\n",
    "    try:\n",
    "        data=client.klines(symbol=pairing,interval='1m',limit=1000,endTime=end)\n",
    "        df = pd.DataFrame(data=data)\n",
    "        return df\n",
    "    except Exception as e:\n",
    "        print('Error:',pairing)"
   ]
  },
  {
   "cell_type": "code",
   "execution_count": null,
   "metadata": {},
   "outputs": [],
   "source": [
    "def get_pairing_data(pairing,range_d,final_datetime='now'):\n",
    "    if final_datetime == 'now':\n",
    "        end = dt.now()\n",
    "    else:\n",
    "        end = final_datetime\n",
    "    endtimes_list = get_endtimes(range_d,end)\n",
    "    df_list = [\n",
    "        klines_call(pairing,time)\n",
    "        for time in endtimes_list\n",
    "    ]\n",
    "    df = pd.concat(df_list)\n",
    "    df.columns = cols\n",
    "    df.drop(['ignore'],axis=1,inplace=True)\n",
    "    df.loc[:,'pairing'] = pairing\n",
    "    df.reset_index(inplace=True,drop=True)\n",
    "    return df"
   ]
  },
  {
   "cell_type": "code",
   "execution_count": null,
   "metadata": {},
   "outputs": [],
   "source": [
    "def ohlc_value_converter(convstr):\n",
    "    if convstr[:3] == '0.0':\n",
    "        convstr = convstr[3:]\n",
    "    return float(convstr)\n",
    "\n",
    "def series_converter(ser):\n",
    "    converted = [\n",
    "        ohlc_value_converter(convstr)\n",
    "        for convstr in ser\n",
    "    ]\n",
    "    return converted\n",
    "\n",
    "def ohlc_converter(df):\n",
    "    copy = df.copy()\n",
    "    ohlc_list = ['open','high','low','close']\n",
    "    for entry in ohlc_list:\n",
    "        copy.loc[:,entry] = series_converter(copy.loc[:,entry])\n",
    "    return copy\n",
    "\n",
    "def non_ohlc_converter(df):\n",
    "    copy = df.copy()\n",
    "    copy.volume = df.volume.astype(float)\n",
    "    copy.quote_asset_volume = df.quote_asset_volume.astype(float)\n",
    "    copy.taker_buy_base_asset_volume = df.taker_buy_base_asset_volume.astype(float)\n",
    "    copy.taker_buy_quote_asset_volume = df.taker_buy_quote_asset_volume.astype(float)\n",
    "    return copy\n",
    "\n",
    "def full_converter(df):\n",
    "    df = ohlc_converter(df)\n",
    "    df = non_ohlc_converter(df)\n",
    "    return df"
   ]
  },
  {
   "cell_type": "code",
   "execution_count": null,
   "metadata": {},
   "outputs": [],
   "source": [
    "from datetime import timedelta\n",
    "from os.path import exists\n",
    "\n",
    "def get_save_data(events):\n",
    "    # iterate over binance_pumps dataframe\n",
    "    for entry in events.index:\n",
    "        # take the pairing\n",
    "        pumped_coin = events.coin[entry]\n",
    "        pairing = '{}BTC'.format(pumped_coin.upper())\n",
    "        # df für ein Pairing wird erstellt\n",
    "        pumptime = events.datetime[entry]\n",
    "\n",
    "        # check if data has beed saved before\n",
    "        save_path = 'data/04_raw_financial/pump_{coin}_{date}_binance.csv'.format(coin=pumped_coin,date=dt.strftime(pumptime,'%Y%m%d'))\n",
    "        if exists(save_path):\n",
    "            print('skipped: {coin}, {date}'.format(coin=pumped_coin,date=dt.strftime(pumptime,'%Y%m%d')))\n",
    "            continue\n",
    "        # if data is new, try to request it from binance\n",
    "        try:\n",
    "            df = get_pairing_data(\n",
    "                pairing,\n",
    "                3,\n",
    "                pumptime + timedelta(seconds = 5400)\n",
    "            )\n",
    "            # df wird sinnvoll benannt abgespeichert\n",
    "            df.to_csv('data/04_raw_financial/pump_{coin}_{date}_binance.csv'.format(coin=pumped_coin,date=dt.strftime(pumptime,'%Y%m%d')))\n",
    "\n",
    "            # convert the dtypes\n",
    "            df = full_converter(df)\n",
    "            df.to_csv('data/04_raw_financial/pump_{coin}_{date}_binance__simplified.csv'.format(coin=pumped_coin,date=dt.strftime(pumptime,'%Y%m%d')))\n",
    "        except:\n",
    "            pass\n",
    "    print('------------------','done')"
   ]
  },
  {
   "cell_type": "code",
   "execution_count": null,
   "metadata": {},
   "outputs": [
    {
     "name": "stdout",
     "output_type": "stream",
     "text": [
      "skipped: evx, 20210109\n",
      "skipped: evx, 20211024\n",
      "Error: EXCLBTC\n",
      "Error: EXCLBTC\n",
      "Error: EXCLBTC\n",
      "Error: EXCLBTC\n",
      "Error: EXCLBTC\n",
      "Error: EXCLBTC\n",
      "skipped: ez, 20211031\n",
      "skipped: fxs, 20210919\n",
      "skipped: gvt, 20200917\n",
      "skipped: gvt, 20210123\n",
      "skipped: gvt, 20210220\n",
      "skipped: idex, 20210425\n",
      "skipped: mth, 20211107\n",
      "skipped: nas, 20210822\n",
      "skipped: nebl, 20201202\n",
      "skipped: nebl, 20201215\n",
      "skipped: nebl, 20220102\n",
      "skipped: nxs, 20201106\n",
      "skipped: oax, 20201018\n",
      "skipped: ong, 20210111\n",
      "skipped: phb, 20211128\n",
      "skipped: pnt, 20210131\n",
      "skipped: poa, 20210711\n",
      "skipped: ppt, 20200804\n",
      "skipped: ppt, 20201021\n",
      "skipped: ppt, 20210307\n",
      "skipped: qsp, 20200910\n",
      "skipped: rdn, 20200825\n",
      "skipped: vib, 20200730\n",
      "skipped: vib, 20210210\n",
      "skipped: vib, 20210905\n",
      "skipped: appc, 20201104\n",
      "Error: DLTABTC\n",
      "Error: DLTABTC\n",
      "Error: DLTABTC\n",
      "Error: DLTABTC\n",
      "Error: DLTABTC\n",
      "Error: DLTABTC\n",
      "------------------ done\n"
     ]
    }
   ],
   "source": [
    "get_save_data(binance_pumps)"
   ]
  },
  {
   "cell_type": "code",
   "execution_count": null,
   "metadata": {},
   "outputs": [],
   "source": [
    "# pd.read_csv('data/04_raw_financial/pump_{coin}_{date}_binance__simplified.csv'.format(coin='oax',date='20181018')).high.plot()"
   ]
  }
 ],
 "metadata": {
  "interpreter": {
   "hash": "65dee9a9d1a923d78ab16c84a55db276e0248384890ce461db8ba4ddd71fba4b"
  },
  "kernelspec": {
   "display_name": "Python 3.9.10 64-bit ('busters': conda)",
   "language": "python",
   "name": "python3"
  },
  "language_info": {
   "codemirror_mode": {
    "name": "ipython",
    "version": 3
   },
   "file_extension": ".py",
   "mimetype": "text/x-python",
   "name": "python",
   "nbconvert_exporter": "python",
   "pygments_lexer": "ipython3",
   "version": "3.9.10"
  },
  "orig_nbformat": 4
 },
 "nbformat": 4,
 "nbformat_minor": 2
}
