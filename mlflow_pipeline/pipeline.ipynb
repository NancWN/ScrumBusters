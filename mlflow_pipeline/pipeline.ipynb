{
 "cells": [
  {
   "cell_type": "code",
   "execution_count": 1,
   "metadata": {},
   "outputs": [
    {
     "name": "stdout",
     "output_type": "stream",
     "text": [
      "G:\\Meine Ablage\\TechLabs\\Scam Busters\n"
     ]
    }
   ],
   "source": [
    "%cd G:\\Meine Ablage\\TechLabs\\Scam Busters"
   ]
  },
  {
   "cell_type": "code",
   "execution_count": 2,
   "metadata": {},
   "outputs": [],
   "source": [
    "# helpful variables for dev\n",
    "feature_list = ['return_1hrs_to_cutoff', 'return_1hrs_to_1h',\n",
    "       'btc_volume_1hrs_to_cutoff', 'btc_volume_1hrs_to_1h',\n",
    "       'coin_volume_1hrs_to_cutoff', 'coin_volume_1hrs_to_1h',\n",
    "       'return_3hrs_to_cutoff', 'return_3hrs_to_1h',\n",
    "       'btc_volume_3hrs_to_cutoff', 'btc_volume_3hrs_to_1h',\n",
    "       'coin_volume_3hrs_to_cutoff', 'coin_volume_3hrs_to_1h',\n",
    "       'return_12hrs_to_cutoff', 'return_12hrs_to_1h',\n",
    "       'btc_volume_12hrs_to_cutoff', 'btc_volume_12hrs_to_1h',\n",
    "       'coin_volume_12hrs_to_cutoff', 'coin_volume_12hrs_to_1h',\n",
    "       'return_24hrs_to_cutoff', 'return_24hrs_to_1h',\n",
    "       'btc_volume_24hrs_to_cutoff', 'btc_volume_24hrs_to_1h',\n",
    "       'coin_volume_24hrs_to_cutoff', 'coin_volume_24hrs_to_1h',\n",
    "       'return_36hrs_to_cutoff', 'return_36hrs_to_1h',\n",
    "       'btc_volume_36hrs_to_cutoff', 'btc_volume_36hrs_to_1h',\n",
    "       'coin_volume_36hrs_to_cutoff', 'coin_volume_36hrs_to_1h',\n",
    "       'return_48hrs_to_cutoff', 'return_48hrs_to_1h',\n",
    "       'btc_volume_48hrs_to_cutoff', 'btc_volume_48hrs_to_1h',\n",
    "       'coin_volume_48hrs_to_cutoff', 'coin_volume_48hrs_to_1h',\n",
    "       'return_60hrs_to_cutoff', 'return_60hrs_to_1h',\n",
    "       'btc_volume_60hrs_to_cutoff', 'btc_volume_60hrs_to_1h',\n",
    "       'coin_volume_60hrs_to_cutoff', 'coin_volume_60hrs_to_1h',\n",
    "       'return_72hrs_to_cutoff', 'return_72hrs_to_1h',\n",
    "       'btc_volume_72hrs_to_cutoff', 'btc_volume_72hrs_to_1h',\n",
    "       'coin_volume_72hrs_to_cutoff', 'coin_volume_72hrs_to_1h',\n",
    "       'market_cap', 'coin_age']\n",
    "target = 'pumped'\n",
    "\n",
    "# imports\n",
    "import pandas as pd\n",
    "import numpy as np\n",
    "from sklearn.ensemble import RandomForestClassifier\n",
    "import mlflow\n",
    "from utils import utils\n",
    "from sklearn.model_selection import RandomizedSearchCV, train_test_split\n",
    "from sklearn.preprocessing import StandardScaler\n",
    "from sklearn.metrics import roc_curve, f1_score, recall_score, precision_score\n",
    "\n",
    "import os"
   ]
  },
  {
   "cell_type": "code",
   "execution_count": 3,
   "metadata": {},
   "outputs": [],
   "source": [
    "class RandomForestModel:\n",
    "    \"\"\"\n",
    "    RandomForestClassifier to predict crypto pump and dump schemes\n",
    "    \"\"\"\n",
    "\n",
    "    def __init__(self, **run_params):\n",
    "        \"\"\"\n",
    "        Constructor\n",
    "        :param run_params: parameters (key-value) for the run such as random_state etc\n",
    "        \"\"\"\n",
    "\n",
    "        # Number of trees in random forest\n",
    "        n_estimators = [int(x) for x in np.linspace(start = 200, stop = 2000, num = 10)]\n",
    "        # Number of features to consider at every split\n",
    "        max_features = ['auto', 'sqrt']\n",
    "        # Maximum number of levels in tree\n",
    "        max_depth = [int(x) for x in np.linspace(10, 110, num = 11)]\n",
    "        max_depth.append(None)\n",
    "        # Minimum number of samples required to split a node\n",
    "        min_samples_split = [2, 5, 10]\n",
    "        # Minimum number of samples required at each leaf node\n",
    "        min_samples_leaf = [1, 2, 4]\n",
    "        # Method of selecting samples for training each tree\n",
    "        bootstrap = [True, False]\n",
    "        # Create the random grid\n",
    "        random_grid = {'n_estimators': n_estimators,\n",
    "                    'max_features': max_features,\n",
    "                    'max_depth': max_depth,\n",
    "                    'min_samples_split': min_samples_split,\n",
    "                    'min_samples_leaf': min_samples_leaf,\n",
    "                    'bootstrap': bootstrap}\n",
    "\n",
    "        self.randomforestclassifier = RandomForestClassifier()\n",
    "        self.rfc_random = RandomizedSearchCV(estimator=self.randomforestclassifier,\n",
    "            scoring = ['f1','f1_weighted','recall','precision'], refit='f1', # scoring settings\n",
    "            param_distributions = random_grid, n_iter = run_params['n_training_iterations'],\n",
    "            cv = run_params['cross_validation_splits'], verbose=2, random_state=run_params['random_state'], n_jobs = -1) # additional settings\n",
    "        self._params = run_params\n",
    "        self.data, self.real_dataset_id = utils.load_data(run_params['data_root'],run_params['dataset_id'])\n",
    "        logger.info(f'run parameters: {run_params}')\n",
    "\n",
    "    @classmethod\n",
    "    def create_instance(cls, **run_params):\n",
    "        return cls(**run_params)\n",
    "\n",
    "    @property\n",
    "    def model(self):\n",
    "        \"\"\"\n",
    "        Getter for the property the model\n",
    "        :return: return the trained decision tree model\n",
    "        \"\"\"\n",
    "\n",
    "        return self.rfc_random\n",
    "\n",
    "    @property\n",
    "    def params(self):\n",
    "        \"\"\"\n",
    "        Getter for the property the model\n",
    "          :return: return the model params\n",
    "        \"\"\"\n",
    "        return self._params\n",
    "\n",
    "    def mlflow_run(self, run_name=\"rfc_model_training\"):\n",
    "        \"\"\"\n",
    "        This method trains, computes metrics, and logs all metrics, parameters,\n",
    "        and artifacts for the current run\n",
    "        :param run_name: Name of the experiment as logged by MLflow\n",
    "        :return: MLflow Tuple (experiment_id, run_id)\n",
    "        \"\"\"\n",
    "\n",
    "        with mlflow.start_run(run_name=run_name) as run:\n",
    "\n",
    "            # get current run and experiment id\n",
    "            run_id = run.info.run_uuid\n",
    "            experiment_id = run.info.experiment_id\n",
    "            logger.info(f'run started. id: {run_id}')\n",
    "\n",
    "            # check data quality\n",
    "            # missing data\n",
    "            na_counts = self.data.isna().sum().sum()\n",
    "            na_ratio = na_counts / self.data.shape[0]*self.data.shape[1]\n",
    "            logger.info(f'na_count is at {na_counts}. na_ratio is at {na_ratio}')\n",
    "\n",
    "            # split the data into train and test\n",
    "            x_train, x_test, y_train, y_test = train_test_split(\n",
    "                self.data[feature_list], self.data[target], \n",
    "                test_size=self._params['test_size'], random_state=self._params['random_state'],\n",
    "                stratify=self.data[target])\n",
    "            logging.info(f'After the split there are ')\n",
    "\n",
    "            # data transformation\n",
    "            if self._params['transformation']=='zscore':\n",
    "                print('trying zscore now')\n",
    "                zscore_scaler = StandardScaler()\n",
    "                # use training data to fit and transform\n",
    "                x_train = pd.DataFrame(zscore_scaler.fit_transform(x_train.values))\n",
    "                x_train.columns = feature_list\n",
    "                # transform other x_data based on the training data fit\n",
    "                x_test = pd.DataFrame(zscore_scaler.transform(x_test.values))\n",
    "                x_test.columns = feature_list\n",
    "                # round the values\n",
    "                x_train = x_train.round(10)\n",
    "                x_test = x_test.round(10)\n",
    "                x_train.to_csv(f'data/06_debug/x_train.csv')\n",
    "                x_test.to_csv('data/06_debug/x_test.csv')\n",
    "                print('zscore done')\n",
    "\n",
    "            # train and tune model\n",
    "            self.rfc_random.fit(x_train, list(y_train))\n",
    "            self.rfmodel = self.rfc_random.best_estimator_\n",
    "            # make predictions\n",
    "            y_probabilities = self.rfmodel.predict_proba(x_test)\n",
    "            y_predicted = (y_probabilities [:,1] >= self._params['prediction_threshold']).astype('int')\n",
    "\n",
    "            # Log model and params using the MLflow sklearn APIs\n",
    "            mlflow.sklearn.log_model(self.rfmodel, \"random_forest_classifier\")\n",
    "            mlflow.log_params(self.rfc_random.best_params_)\n",
    "            mlflow.log_param('dataset_id',self.real_dataset_id)\n",
    "            mlflow.log_param('features',feature_list)\n",
    "\n",
    "            cv_df = pd.DataFrame(self.rfc_random.cv_results_)\n",
    "            best_model_metadata = cv_df.loc[self.rfc_random.best_index_]\n",
    "            # log metrics in mlflow\n",
    "            mlflow.log_metric('train_f1', best_model_metadata.mean_test_f1)\n",
    "            mlflow.log_metric('train_f1_weighted', best_model_metadata.mean_test_f1_weighted)\n",
    "            mlflow.log_metric('train_precision', best_model_metadata.mean_test_precision)\n",
    "            mlflow.log_metric('train_recall', best_model_metadata.mean_test_recall)\n",
    "            mlflow.log_metric('test_recall',recall_score(y_test,y_predicted))\n",
    "            mlflow.log_metric('test_precision',precision_score(y_test,y_predicted))\n",
    "            mlflow.log_metric('test_f1_score',f1_score(y_test,y_predicted))\n",
    "            mlflow.log_metric('test_f1_score_weighted',f1_score(y_test,y_predicted,average='weighted'))\n",
    "\n",
    "\n",
    "            # # create confusion matrix plot\n",
    "            # print(y_test, y_pred, '--------')\n",
    "\n",
    "            # plt_cm, fig_cm, ax_cm = utils.plot_confusion_matrix(y_test, y_pred, y_test,\n",
    "            #                                                     title=\"Classification Confusion Matrix\")\n",
    "\n",
    "            # temp_name = \"confusion-matrix.png\"\n",
    "            # fig_cm.savefig(temp_name)\n",
    "            # mlflow.log_artifact(temp_name, \"confusion-matrix-plots\")\n",
    "            # try:\n",
    "            #     os.remove(temp_name)\n",
    "            # except FileNotFoundError as e:\n",
    "            #     print(f\"{temp_name} file is not found\")\n",
    "\n",
    "            print(\"<->\" * 40)\n",
    "            print(f\"Inside MLflow Run with run_id {run_id} and experiment_id {experiment_id}\")\n",
    "            \n",
    "            # create roc plot\n",
    "            plot_file = \"roc-auc-plot.png\"\n",
    "            probs = y_probabilities[:, 1]\n",
    "            fpr, tpr, thresholds = roc_curve(y_test, probs)\n",
    "            plt_roc, fig_roc, ax_roc = utils.create_roc_plot(fpr, tpr)\n",
    "            fig_roc.savefig(plot_file)\n",
    "            mlflow.log_artifact(plot_file, \"roc-auc-plots\")\n",
    "            try:\n",
    "                os.remove(plot_file)\n",
    "            except FileNotFoundError as e:\n",
    "                print(f\"{plot_file} file is not found\")\n",
    "\n",
    "            return experiment_id, run_id"
   ]
  },
  {
   "cell_type": "code",
   "execution_count": 4,
   "metadata": {},
   "outputs": [
    {
     "name": "stdout",
     "output_type": "stream",
     "text": [
      "trying zscore now\n",
      "zscore done\n",
      "Fitting 20 folds for each of 20 candidates, totalling 400 fits\n",
      "<-><-><-><-><-><-><-><-><-><-><-><-><-><-><-><-><-><-><-><-><-><-><-><-><-><-><-><-><-><-><-><-><-><-><-><-><-><-><-><->\n",
      "Inside MLflow Run with run_id bf20ea4a58464594b113d9ade63a33ed and experiment_id 0\n",
      "<-><-><-><-><-><-><-><-><-><-><-><-><-><-><-><-><-><-><-><-><-><-><-><-><-><-><-><-><-><-><-><-><-><-><-><-><-><-><-><->\n"
     ]
    },
    {
     "data": {
      "image/png": "[encoded data removed]",
      "text/plain": [
       "<Figure size 432x288 with 1 Axes>"
      ]
     },
     "metadata": {
      "needs_background": "light"
     },
     "output_type": "display_data"
    }
   ],
   "source": [
    "params = {\n",
    "    'data_root':'data/05_engineered_features/',\n",
    "    'dataset_id':'newest',\n",
    "    'random_state':0,\n",
    "    'transformation':'zscore',\n",
    "    'test_size':0.2,\n",
    "    'prediction_threshold':0.2,\n",
    "    'cross_validation_splits':20,\n",
    "    'n_training_iterations':20\n",
    "}\n",
    "\n",
    "# logging\n",
    "\n",
    "import datetime as dt\n",
    "import logging\n",
    "run_id = dt.datetime.now().strftime(\"%Y-%m-%d_%H%M%S\")\n",
    "logging_path = 'metadata/logging/pipeline_'+run_id+'.log'\n",
    "logging.basicConfig(level=logging.DEBUG, filename=logging_path,force=True)\n",
    "logger = logging.getLogger(__name__)\n",
    "logging.info('Run started')\n",
    "\n",
    "try:\n",
    "    dtc = RandomForestModel.create_instance(**params)\n",
    "except Exception as e:\n",
    "    logger.exception(\n",
    "        \"Unable to create Model instance: %s\", e)\n",
    "try:\n",
    "    exp_id, run_id = dtc.mlflow_run()\n",
    "    logger.info(f\"MLflow Run completed with run_id {exp_id} and experiment_id {run_id}\")\n",
    "except Exception as e:\n",
    "    logger.exception(\n",
    "        'Unable to run pipeline: %s', e)\n",
    "\n",
    "print(\"<->\" * 40)"
   ]
  },
  {
   "cell_type": "code",
   "execution_count": 5,
   "metadata": {},
   "outputs": [],
   "source": [
    "test_df = pd.read_csv('data/05_engineered_features/2022-03-19.csv')"
   ]
  },
  {
   "cell_type": "code",
   "execution_count": 6,
   "metadata": {},
   "outputs": [],
   "source": [
    "# train new model with the best parameters\n",
    "from sklearn.ensemble import RandomForestClassifier\n",
    "\n",
    "new_model = RandomForestClassifier(\n",
    "    #max_depth=40,\n",
    "    max_features='auto',\n",
    "    min_samples_leaf=2, \n",
    "    min_samples_split=2,\n",
    "    n_estimators=600,\n",
    "    bootstrap=False)\n",
    "x = test_df[feature_list]\n",
    "y=test_df.pumped"
   ]
  },
  {
   "cell_type": "code",
   "execution_count": 8,
   "metadata": {},
   "outputs": [
    {
     "data": {
      "text/plain": [
       "RandomForestClassifier(bootstrap=False, min_samples_leaf=2, n_estimators=600)"
      ]
     },
     "execution_count": 8,
     "metadata": {},
     "output_type": "execute_result"
    }
   ],
   "source": [
    "new_model.fit(x,y)"
   ]
  },
  {
   "cell_type": "code",
   "execution_count": 9,
   "metadata": {},
   "outputs": [
    {
     "data": {
      "text/plain": [
       "array([0, 1, 1, 1, 1, 0, 0, 0, 0, 0, 1, 1, 1, 0, 0, 0, 0, 0, 0, 0, 0, 0,\n",
       "       0, 0, 0, 0, 0, 0, 0, 0, 0, 0, 0, 0, 0, 0, 0, 0, 0, 0, 0, 0, 0, 0,\n",
       "       0, 0, 1, 0, 0, 0, 0, 0, 0, 0, 0, 1, 0, 1, 1, 0, 0, 1, 1, 1, 1, 1,\n",
       "       1, 0, 0, 0, 0, 0, 0, 0, 0, 0, 0, 0, 0, 0, 0, 0, 0, 0, 0, 0, 0, 0,\n",
       "       0, 0, 0, 0, 0, 0, 1, 0, 0, 0, 0, 0, 0, 0, 0, 0, 1, 0, 1, 0, 1, 0,\n",
       "       1, 1, 1, 0, 0, 0, 0, 0, 0, 0, 0, 0, 0, 1, 0, 0, 0, 1, 0, 0, 0, 0,\n",
       "       0, 0, 0, 0, 0, 0, 0, 0, 0, 0, 0, 0, 0, 0, 0, 0, 0, 0, 0, 0, 0, 0,\n",
       "       0, 0, 0, 0, 0, 0, 0, 0, 0, 0, 0, 0, 0, 0, 0, 0, 0, 0, 0, 0, 0, 0,\n",
       "       0, 0, 0, 0, 0, 0, 0, 0, 0, 0, 0, 0, 0, 0, 0, 0, 0, 0, 0, 0, 0, 0,\n",
       "       0, 0, 0, 0, 0, 0, 0, 0, 0, 0, 0, 0, 0, 0, 0, 0, 0, 0, 0, 0, 0, 0,\n",
       "       0, 0, 0, 0, 0, 0, 0, 0, 0, 0, 0, 0, 0, 0, 0, 0, 0, 0, 0, 0, 0, 0,\n",
       "       0, 0, 0, 0, 0, 0, 0, 0, 0, 0, 0, 0, 0, 0, 0, 0, 0, 0, 0, 0, 0, 0,\n",
       "       0, 0, 0, 0, 0, 0, 0, 0, 0, 0, 0, 0, 0, 0, 0, 0, 0, 0, 0, 0, 0, 0,\n",
       "       0, 0, 0, 0, 0, 0, 0, 0, 0, 0, 0, 0, 0, 0, 0, 0, 0, 0, 0, 0, 0, 0,\n",
       "       0, 0, 0, 0, 0, 0, 0, 0, 0, 0, 0, 0, 0, 0, 0, 0, 0, 0, 0, 0, 0, 0,\n",
       "       0, 0, 0, 0, 0, 0, 0, 0, 0, 0, 0, 0, 0, 0, 0, 0, 0, 0, 0, 0, 0, 0,\n",
       "       0, 0, 0, 0, 0, 0, 0, 0, 0, 0, 0, 0, 0, 0, 0, 0, 0, 0, 0, 0, 0, 0,\n",
       "       0, 0, 0, 0, 0, 0, 0, 0, 0, 0, 0, 0, 0, 0, 0, 0, 0, 0, 0, 0, 0, 0,\n",
       "       0, 0, 0, 0, 0, 0, 0, 0, 0, 0, 0, 0, 0, 0, 0, 0, 0, 0, 0, 0, 0, 0,\n",
       "       0, 0, 0, 0, 0, 0, 0, 0, 0, 0, 0, 0, 0, 0, 0, 0, 0, 0, 0, 0, 0, 0,\n",
       "       0, 0, 0, 0, 0, 0, 0, 0, 0, 0, 0, 0, 0, 0, 0, 0, 0, 0, 0, 0, 0, 0,\n",
       "       0, 0, 0, 0, 0, 0, 0, 0, 0, 0, 0, 0, 0, 0, 0, 0, 0, 0, 0, 0, 0, 0,\n",
       "       0, 0, 0, 0, 0, 0, 0, 0, 0, 0, 0, 0, 0, 0, 0, 0, 0, 0, 0, 0, 0, 0,\n",
       "       0, 0, 0, 0, 0, 0, 0, 0, 0, 0, 0, 0, 0, 0, 0, 0, 0, 0, 0, 0, 0, 0,\n",
       "       0, 0, 0, 0, 0, 0, 0, 0, 0, 0, 0, 0, 0, 0, 0, 0, 0, 0, 0, 0, 0, 0,\n",
       "       0, 0, 0, 0, 0, 0, 0, 0, 0, 0, 0, 0, 0, 0, 0, 0, 0, 0, 0, 0, 0, 0,\n",
       "       0, 0, 0, 0, 0, 0, 0, 0, 0, 0, 0, 0, 0, 0, 0, 0, 0, 0, 0, 0, 0, 0,\n",
       "       0, 0, 0, 0, 0, 0, 0, 0, 0, 0, 0, 0, 0, 0, 0, 0, 0, 0, 0, 0, 0, 0,\n",
       "       0, 0, 0, 0, 0, 0, 0, 0, 0, 0, 0, 0, 0, 0, 0, 0, 0, 0, 0, 0, 0, 0,\n",
       "       0, 0, 0, 0, 0, 0, 0, 0, 0, 0, 0, 0, 0, 0, 0, 0, 0, 0, 0, 0, 0, 0,\n",
       "       0, 0, 0, 0, 0, 0, 0, 0, 0, 0, 0, 0, 0, 0, 0, 0, 0, 0, 0, 0, 0, 0,\n",
       "       0, 0, 0, 0, 0, 0, 0, 0, 0, 0, 0, 0, 0, 0, 0, 0, 0, 0, 0],\n",
       "      dtype=int64)"
      ]
     },
     "execution_count": 9,
     "metadata": {},
     "output_type": "execute_result"
    }
   ],
   "source": [
    "new_model.predict(x)"
   ]
  },
  {
   "cell_type": "code",
   "execution_count": 10,
   "metadata": {},
   "outputs": [
    {
     "data": {
      "text/plain": [
       "array([0, 1, 1, 1, 1, 0, 0, 0, 0, 0, 1, 1, 1, 0, 0, 0, 0, 0, 0, 0, 0, 0,\n",
       "       0, 0, 0, 0, 0, 0, 0, 0, 0, 0, 0, 0, 0, 0, 0, 0, 0, 0, 0, 0, 0, 0,\n",
       "       0, 0, 1, 0, 0, 0, 0, 0, 0, 0, 0, 1, 0, 1, 1, 0, 0, 1, 1, 1, 1, 1,\n",
       "       1, 0, 0, 0, 0, 0, 0, 0, 0, 0, 0, 0, 0, 0, 0, 0, 0, 0, 0, 0, 0, 0,\n",
       "       0, 0, 0, 0, 0, 0, 1, 0, 0, 0, 0, 0, 0, 0, 0, 0, 1, 0, 1, 0, 1, 0,\n",
       "       1, 1, 1, 0, 0, 0, 0, 0, 0, 0, 0, 0, 0, 1, 0, 0, 0, 1, 0, 0, 0, 0,\n",
       "       0, 0, 0, 0, 0, 0, 0, 0, 0, 0, 0, 0, 0, 0, 0, 0, 0, 0, 0, 0, 0, 0,\n",
       "       0, 0, 0, 0, 0, 0, 0, 0, 0, 0, 0, 0, 0, 0, 0, 0, 0, 0, 0, 0, 0, 0,\n",
       "       0, 0, 0, 0, 0, 0, 0, 0, 0, 0, 0, 0, 0, 0, 0, 0, 0, 0, 0, 0, 0, 0,\n",
       "       0, 0, 0, 0, 0, 0, 0, 0, 0, 0, 0, 0, 0, 0, 0, 0, 0, 0, 0, 0, 0, 0,\n",
       "       0, 0, 0, 0, 0, 0, 0, 0, 0, 0, 0, 0, 0, 0, 0, 0, 0, 0, 0, 0, 0, 0,\n",
       "       0, 0, 0, 0, 0, 0, 0, 0, 0, 0, 0, 0, 0, 0, 0, 0, 0, 0, 0, 0, 0, 0,\n",
       "       0, 0, 0, 0, 0, 0, 0, 0, 0, 0, 0, 0, 0, 0, 0, 0, 0, 0, 0, 0, 0, 0,\n",
       "       0, 0, 0, 0, 0, 0, 0, 0, 0, 0, 0, 0, 0, 0, 0, 0, 0, 0, 0, 0, 0, 0,\n",
       "       0, 0, 0, 0, 0, 0, 0, 0, 0, 0, 0, 0, 0, 0, 0, 0, 0, 0, 0, 0, 0, 0,\n",
       "       0, 0, 0, 0, 0, 0, 0, 0, 0, 0, 0, 0, 0, 0, 0, 0, 0, 0, 0, 0, 0, 0,\n",
       "       0, 0, 0, 0, 0, 0, 0, 0, 0, 0, 0, 0, 0, 0, 0, 0, 0, 0, 0, 0, 0, 0,\n",
       "       0, 0, 0, 0, 0, 0, 0, 0, 0, 0, 0, 0, 0, 0, 0, 0, 0, 0, 0, 0, 0, 0,\n",
       "       0, 0, 0, 0, 0, 0, 0, 0, 0, 0, 0, 0, 0, 0, 0, 0, 0, 0, 0, 0, 0, 0,\n",
       "       0, 0, 0, 0, 0, 0, 0, 0, 0, 0, 0, 0, 0, 0, 0, 0, 0, 0, 0, 0, 0, 0,\n",
       "       0, 0, 0, 0, 0, 0, 0, 0, 0, 0, 0, 0, 0, 0, 0, 0, 0, 0, 0, 0, 0, 0,\n",
       "       0, 0, 0, 0, 0, 0, 0, 0, 0, 0, 0, 0, 0, 0, 0, 0, 0, 0, 0, 0, 0, 0,\n",
       "       0, 0, 0, 0, 0, 0, 0, 0, 0, 0, 0, 0, 0, 0, 0, 0, 0, 0, 0, 0, 0, 0,\n",
       "       0, 0, 0, 0, 0, 0, 0, 0, 0, 0, 0, 0, 0, 0, 0, 0, 0, 0, 0, 0, 0, 0,\n",
       "       0, 0, 0, 0, 0, 0, 0, 0, 0, 0, 0, 0, 0, 0, 0, 0, 0, 0, 0, 0, 0, 0,\n",
       "       0, 0, 0, 0, 0, 0, 0, 0, 0, 0, 0, 0, 0, 0, 0, 0, 0, 0, 0, 0, 0, 0,\n",
       "       0, 0, 0, 0, 0, 0, 0, 0, 0, 0, 0, 0, 0, 0, 0, 0, 0, 0, 0, 0, 0, 0,\n",
       "       0, 0, 0, 0, 0, 0, 0, 0, 0, 0, 0, 0, 0, 0, 0, 0, 0, 0, 0, 0, 0, 0,\n",
       "       0, 0, 0, 0, 0, 0, 0, 0, 0, 0, 0, 0, 0, 0, 0, 0, 0, 0, 0, 0, 0, 0,\n",
       "       0, 0, 0, 0, 0, 0, 0, 0, 0, 0, 0, 0, 0, 0, 0, 0, 0, 0, 0, 0, 0, 0,\n",
       "       0, 0, 0, 0, 0, 0, 0, 0, 0, 0, 0, 0, 0, 0, 0, 0, 0, 0, 0, 0, 0, 0,\n",
       "       0, 0, 0, 0, 0, 0, 0, 0, 0, 0, 0, 0, 0, 0, 0, 0, 0, 0, 0])"
      ]
     },
     "execution_count": 10,
     "metadata": {},
     "output_type": "execute_result"
    }
   ],
   "source": [
    "(new_model.predict_proba(x)[:,1]>.4).astype('int')"
   ]
  },
  {
   "cell_type": "code",
   "execution_count": 11,
   "metadata": {},
   "outputs": [],
   "source": [
    "feature_importances = pd.Series(new_model.feature_importances_)\n",
    "feature_importances.index = feature_list"
   ]
  },
  {
   "cell_type": "code",
   "execution_count": 12,
   "metadata": {},
   "outputs": [
    {
     "data": {
      "text/plain": [
       "market_cap                     9.543220\n",
       "coin_age                       7.898857\n",
       "return_24hrs_to_cutoff         4.111678\n",
       "return_3hrs_to_cutoff          3.583232\n",
       "return_12hrs_to_cutoff         3.433333\n",
       "return_72hrs_to_1h             3.148301\n",
       "return_24hrs_to_1h             3.144525\n",
       "return_36hrs_to_cutoff         3.116036\n",
       "return_1hrs_to_cutoff          2.911367\n",
       "btc_volume_24hrs_to_cutoff     2.665565\n",
       "btc_volume_36hrs_to_cutoff     2.562366\n",
       "return_36hrs_to_1h             2.481174\n",
       "return_12hrs_to_1h             2.444857\n",
       "return_48hrs_to_cutoff         2.442061\n",
       "return_60hrs_to_cutoff         2.157441\n",
       "return_48hrs_to_1h             2.156513\n",
       "btc_volume_60hrs_to_1h         2.113528\n",
       "btc_volume_24hrs_to_1h         1.999305\n",
       "return_60hrs_to_1h             1.989749\n",
       "return_72hrs_to_cutoff         1.946049\n",
       "btc_volume_36hrs_to_1h         1.811288\n",
       "btc_volume_3hrs_to_cutoff      1.793719\n",
       "btc_volume_60hrs_to_cutoff     1.770624\n",
       "btc_volume_1hrs_to_1h          1.637857\n",
       "btc_volume_1hrs_to_cutoff      1.538130\n",
       "btc_volume_12hrs_to_1h         1.469209\n",
       "btc_volume_48hrs_to_cutoff     1.437299\n",
       "btc_volume_3hrs_to_1h          1.374019\n",
       "return_3hrs_to_1h              1.301642\n",
       "btc_volume_12hrs_to_cutoff     1.285062\n",
       "btc_volume_48hrs_to_1h         1.261344\n",
       "btc_volume_72hrs_to_cutoff     1.237497\n",
       "coin_volume_1hrs_to_cutoff     1.105494\n",
       "coin_volume_3hrs_to_cutoff     1.102754\n",
       "btc_volume_72hrs_to_1h         1.093829\n",
       "return_1hrs_to_1h              1.082744\n",
       "coin_volume_12hrs_to_cutoff    1.075598\n",
       "coin_volume_3hrs_to_1h         1.026877\n",
       "coin_volume_24hrs_to_1h        0.998902\n",
       "coin_volume_72hrs_to_1h        0.889639\n",
       "coin_volume_60hrs_to_1h        0.882786\n",
       "coin_volume_1hrs_to_1h         0.873973\n",
       "coin_volume_36hrs_to_cutoff    0.872673\n",
       "coin_volume_48hrs_to_1h        0.834819\n",
       "coin_volume_24hrs_to_cutoff    0.813967\n",
       "coin_volume_48hrs_to_cutoff    0.802479\n",
       "coin_volume_60hrs_to_cutoff    0.733657\n",
       "coin_volume_12hrs_to_1h        0.706095\n",
       "coin_volume_36hrs_to_1h        0.687820\n",
       "coin_volume_72hrs_to_cutoff    0.649044\n",
       "dtype: float64"
      ]
     },
     "execution_count": 12,
     "metadata": {},
     "output_type": "execute_result"
    }
   ],
   "source": [
    "(feature_importances*100).sort_values(ascending=False)"
   ]
  },
  {
   "cell_type": "code",
   "execution_count": 14,
   "metadata": {},
   "outputs": [
    {
     "data": {
      "text/plain": [
       "400"
      ]
     },
     "execution_count": 14,
     "metadata": {},
     "output_type": "execute_result"
    }
   ],
   "source": [
    "x_fake = pd.concat([x.sample(50) for i in range(8)])\n",
    "len(x_fake)"
   ]
  },
  {
   "cell_type": "code",
   "execution_count": 15,
   "metadata": {},
   "outputs": [],
   "source": [
    "predictions = pd.DataFrame(new_model.predict_proba(x_fake))[[1]]\n",
    "predictions.columns = ['pump_probability']"
   ]
  },
  {
   "cell_type": "code",
   "execution_count": 20,
   "metadata": {},
   "outputs": [],
   "source": [
    "pump_threshold = .3\n",
    "predictions.loc[:,'will_be_pumped'] = predictions.pump_probability > pump_threshold"
   ]
  },
  {
   "cell_type": "code",
   "execution_count": 22,
   "metadata": {},
   "outputs": [
    {
     "data": {
      "text/plain": [
       "<AxesSubplot:>"
      ]
     },
     "execution_count": 22,
     "metadata": {},
     "output_type": "execute_result"
    },
    {
     "data": {
      "image/png": "[encoded data removed]",
      "text/plain": [
       "<Figure size 432x288 with 1 Axes>"
      ]
     },
     "metadata": {
      "needs_background": "light"
     },
     "output_type": "display_data"
    }
   ],
   "source": [
    "predictions.pump_probability.hist()"
   ]
  },
  {
   "cell_type": "code",
   "execution_count": 21,
   "metadata": {},
   "outputs": [
    {
     "data": {
      "text/plain": [
       "15"
      ]
     },
     "execution_count": 21,
     "metadata": {},
     "output_type": "execute_result"
    }
   ],
   "source": [
    "predictions.will_be_pumped.sum()"
   ]
  },
  {
   "cell_type": "code",
   "execution_count": null,
   "metadata": {},
   "outputs": [
    {
     "data": {
      "text/plain": [
       "Unnamed: 0                                 64\n",
       "return_1hrs_to_cutoff                1.003185\n",
       "return_1hrs_to_1h                    1.019512\n",
       "btc_volume_1hrs_to_cutoff            4.021704\n",
       "btc_volume_1hrs_to_1h                1.288304\n",
       "coin_volume_1hrs_to_cutoff           634077.0\n",
       "coin_volume_1hrs_to_1h               210970.0\n",
       "return_3hrs_to_cutoff                1.058824\n",
       "return_3hrs_to_1h                    1.041528\n",
       "btc_volume_3hrs_to_cutoff            5.794416\n",
       "btc_volume_3hrs_to_1h                3.256795\n",
       "coin_volume_3hrs_to_cutoff           926071.0\n",
       "coin_volume_3hrs_to_1h               539632.0\n",
       "return_12hrs_to_cutoff               1.088083\n",
       "return_12hrs_to_1h                   1.057336\n",
       "btc_volume_12hrs_to_cutoff          13.504047\n",
       "btc_volume_12hrs_to_1h              10.345439\n",
       "coin_volume_12hrs_to_cutoff         2234053.0\n",
       "coin_volume_12hrs_to_1h             1746869.0\n",
       "return_24hrs_to_cutoff               1.139241\n",
       "return_24hrs_to_1h                   1.133816\n",
       "btc_volume_24hrs_to_cutoff          22.862625\n",
       "btc_volume_24hrs_to_1h              19.289483\n",
       "coin_volume_24hrs_to_cutoff         3842734.0\n",
       "coin_volume_24hrs_to_1h             3287953.0\n",
       "return_36hrs_to_cutoff               1.067797\n",
       "return_36hrs_to_1h                   0.992089\n",
       "btc_volume_36hrs_to_cutoff          36.831473\n",
       "btc_volume_36hrs_to_1h              36.621231\n",
       "coin_volume_36hrs_to_cutoff         6263053.0\n",
       "coin_volume_36hrs_to_1h             6251345.0\n",
       "return_48hrs_to_cutoff               1.155963\n",
       "return_48hrs_to_1h                       1.14\n",
       "btc_volume_48hrs_to_cutoff           46.28824\n",
       "btc_volume_48hrs_to_1h              43.063974\n",
       "coin_volume_48hrs_to_cutoff         7863560.0\n",
       "coin_volume_48hrs_to_1h             7374202.0\n",
       "return_60hrs_to_cutoff               1.175373\n",
       "return_60hrs_to_1h                   1.194286\n",
       "btc_volume_60hrs_to_cutoff          73.538229\n",
       "btc_volume_60hrs_to_1h              70.363496\n",
       "coin_volume_60hrs_to_cutoff        12757046.0\n",
       "coin_volume_60hrs_to_1h            12278198.0\n",
       "return_72hrs_to_cutoff               1.206897\n",
       "return_72hrs_to_1h                   1.210425\n",
       "btc_volume_72hrs_to_cutoff          78.362761\n",
       "btc_volume_72hrs_to_1h               75.02042\n",
       "coin_volume_72hrs_to_cutoff        13672374.0\n",
       "coin_volume_72hrs_to_1h            13167442.0\n",
       "pumped                                      1\n",
       "symbol                                    ONG\n",
       "market_cap                     1208774.048187\n",
       "coin_age                              4.29863\n",
       "Name: 64, dtype: object"
      ]
     },
     "execution_count": 45,
     "metadata": {},
     "output_type": "execute_result"
    }
   ],
   "source": [
    "test_df.loc[64]"
   ]
  }
 ],
 "metadata": {
  "interpreter": {
   "hash": "342763789c8e825a2f8623ea8958c5e6a0b3c81c96d7238403a1345fbedae2c1"
  },
  "kernelspec": {
   "display_name": "Python 3.10.2 ('ml_pipeline')",
   "language": "python",
   "name": "python3"
  },
  "language_info": {
   "codemirror_mode": {
    "name": "ipython",
    "version": 3
   },
   "file_extension": ".py",
   "mimetype": "text/x-python",
   "name": "python",
   "nbconvert_exporter": "python",
   "pygments_lexer": "ipython3",
   "version": "3.10.2"
  },
  "orig_nbformat": 4
 },
 "nbformat": 4,
 "nbformat_minor": 2
}
