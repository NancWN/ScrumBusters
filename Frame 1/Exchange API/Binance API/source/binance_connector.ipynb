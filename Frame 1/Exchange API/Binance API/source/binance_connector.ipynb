{
 "cells": [
  {
   "cell_type": "code",
   "execution_count": 33,
   "metadata": {},
   "outputs": [],
   "source": [
    "from binance.spot import Spot\n",
    "client = Spot(base_url ='https://api2.binance.com')\n",
    "#cap_client = Spot(endpoint='https://www.binance.com/exchange-api/v2/public/asset-service/product/get-products')\n",
    "import pandas as pd\n",
    "from datetime import datetime as dt\n",
    "from math import ceil\n",
    "import os"
   ]
  },
  {
   "cell_type": "code",
   "execution_count": 4,
   "metadata": {},
   "outputs": [
    {
     "name": "stdout",
     "output_type": "stream",
     "text": [
      "G:\\Meine Ablage\\TechLabs\\Scam Busters\n"
     ]
    }
   ],
   "source": [
    "%cd G:\\Meine Ablage\\TechLabs\\Scam Busters"
   ]
  },
  {
   "cell_type": "code",
   "execution_count": 4,
   "metadata": {},
   "outputs": [],
   "source": [
    "data_root=r'data\\03_label_dataset'\n",
    "files = os.listdir(data_root)"
   ]
  },
  {
   "cell_type": "code",
   "execution_count": 5,
   "metadata": {},
   "outputs": [],
   "source": [
    "#%cd .."
   ]
  },
  {
   "cell_type": "markdown",
   "metadata": {},
   "source": [
    "hier anpassen\n",
    "\n"
   ]
  },
  {
   "cell_type": "code",
   "execution_count": 6,
   "metadata": {},
   "outputs": [],
   "source": [
    "pumps_df = pd.read_csv(data_root+'/'+files[0])"
   ]
  },
  {
   "cell_type": "code",
   "execution_count": 7,
   "metadata": {},
   "outputs": [],
   "source": [
    "# pumps_df=pd.DataFrame([{\n",
    "#     'exchange':'binance',\n",
    "#     'datetime':'2020-10-18 18:00:18+00:00',\n",
    "#     'coin':'oax'\n",
    "# }])"
   ]
  },
  {
   "cell_type": "code",
   "execution_count": 8,
   "metadata": {},
   "outputs": [],
   "source": [
    "binance_pumps = pumps_df.loc[pumps_df.exchange =='binance'].copy()\n",
    "binance_pumps.loc[:,'datetime'] = pd.to_datetime([\n",
    "    dtstring[:-6]\n",
    "    for dtstring in binance_pumps.datetime\n",
    "])\n",
    "from datetime import timezone\n",
    "binance_pumps.loc[:,'tz_utc'] = [\n",
    "    dt_value.replace(tzinfo=timezone.utc).timestamp()\n",
    "    for dt_value in binance_pumps.datetime\n",
    "]"
   ]
  },
  {
   "cell_type": "code",
   "execution_count": 9,
   "metadata": {},
   "outputs": [],
   "source": [
    "# set input parameters\n",
    "# pairing_list = [INPT]\n",
    "end_date = dt.now()\n",
    "timeframe_d = 365"
   ]
  },
  {
   "cell_type": "code",
   "execution_count": 58,
   "metadata": {},
   "outputs": [],
   "source": [
    "# col names\n",
    "cols = [\n",
    "    'open_time',\n",
    "    'open',\n",
    "    'high',\n",
    "    'low',\n",
    "    'close',\n",
    "    'volume',\n",
    "    'close_time',\n",
    "    'quote_asset_volume',\n",
    "    'n_trades',\n",
    "    'taker_buy_base_asset_volume',\n",
    "    'taker_buy_quote_asset_volume',\n",
    "    'ignore'\n",
    "]"
   ]
  },
  {
   "cell_type": "code",
   "execution_count": 11,
   "metadata": {},
   "outputs": [],
   "source": [
    "def get_endtimes(range_d, final_datetime):\n",
    "    calls_n = ceil(range_d*24*60/1000)\n",
    "    # convert final datetime to unix timestamp\n",
    "    final_datetime= final_datetime.replace(second=0, microsecond=0)\n",
    "    final_ts = int(dt.timestamp(final_datetime)*1000)\n",
    "    # create anchor values\n",
    "    anchors = range(-calls_n,1)\n",
    "    # turn anchor values into timestamps for the api call\n",
    "    call_times = [\n",
    "        60*1000*1000*anchor + final_ts\n",
    "        for anchor in anchors\n",
    "    ]\n",
    "    return call_times"
   ]
  },
  {
   "cell_type": "code",
   "execution_count": 21,
   "metadata": {},
   "outputs": [],
   "source": [
    "def klines_call(pairing,end):\n",
    "    try:\n",
    "        data=client.klines(symbol=pairing,interval='1m',limit=1000,endTime=end)\n",
    "        df = pd.DataFrame(data=data)\n",
    "        return df\n",
    "    except Exception as e:\n",
    "        print(f'Error: {e}',pairing)"
   ]
  },
  {
   "cell_type": "code",
   "execution_count": 13,
   "metadata": {},
   "outputs": [],
   "source": [
    "def get_pairing_data(pairing,range_d,final_datetime='now'):\n",
    "    if final_datetime == 'now':\n",
    "        end = dt.now()\n",
    "    else:\n",
    "        end = final_datetime\n",
    "    endtimes_list = get_endtimes(range_d,end)\n",
    "    df_list = [\n",
    "        klines_call(pairing,time)\n",
    "        for time in endtimes_list\n",
    "    ]\n",
    "    df = pd.concat(df_list)\n",
    "    df.columns = cols\n",
    "    df.drop(['ignore'],axis=1,inplace=True)\n",
    "    df.loc[:,'pairing'] = pairing\n",
    "    df.reset_index(inplace=True,drop=True)\n",
    "    return df"
   ]
  },
  {
   "cell_type": "code",
   "execution_count": 14,
   "metadata": {},
   "outputs": [],
   "source": [
    "def ohlc_value_converter(convstr):\n",
    "    if convstr[:3] == '0.0':\n",
    "        convstr = convstr[3:]\n",
    "    return float(convstr)\n",
    "\n",
    "def series_converter(ser):\n",
    "    converted = [\n",
    "        ohlc_value_converter(convstr)\n",
    "        for convstr in ser\n",
    "    ]\n",
    "    return converted\n",
    "\n",
    "def ohlc_converter(df):\n",
    "    copy = df.copy()\n",
    "    ohlc_list = ['open','high','low','close']\n",
    "    for entry in ohlc_list:\n",
    "        copy.loc[:,entry] = series_converter(copy.loc[:,entry])\n",
    "    return copy\n",
    "\n",
    "def non_ohlc_converter(df):\n",
    "    copy = df.copy()\n",
    "    copy.volume = df.volume.astype(float)\n",
    "    copy.quote_asset_volume = df.quote_asset_volume.astype(float)\n",
    "    copy.taker_buy_base_asset_volume = df.taker_buy_base_asset_volume.astype(float)\n",
    "    copy.taker_buy_quote_asset_volume = df.taker_buy_quote_asset_volume.astype(float)\n",
    "    return copy\n",
    "\n",
    "def full_converter(df):\n",
    "    df = ohlc_converter(df)\n",
    "    df = non_ohlc_converter(df)\n",
    "    return df"
   ]
  },
  {
   "cell_type": "code",
   "execution_count": 26,
   "metadata": {},
   "outputs": [],
   "source": [
    "from datetime import timedelta\n",
    "from os.path import exists\n",
    "\n",
    "def get_save_data(events):\n",
    "    # iterate over binance_pumps dataframe\n",
    "    for entry in events.index:\n",
    "        # take the pairing\n",
    "        pumped_coin = events.coin[entry]\n",
    "        pairing = '{}BTC'.format(pumped_coin.upper())\n",
    "        # df für ein Pairing wird erstellt\n",
    "        pumptime = events.datetime[entry]\n",
    "\n",
    "        # check if data has beed saved before\n",
    "        save_path = 'data/04_raw_financial/pump_{coin}_{date}_binance.csv'.format(coin=pumped_coin,date=dt.strftime(pumptime,'%Y%m%d'))\n",
    "        if exists(save_path):\n",
    "            print('skipped: {coin}, {date}'.format(coin=pumped_coin,date=dt.strftime(pumptime,'%Y%m%d')))\n",
    "            continue\n",
    "        # if data is new, try to request it from binance\n",
    "        try:\n",
    "            df = get_pairing_data(\n",
    "                pairing,\n",
    "                3,\n",
    "                pumptime + timedelta(seconds = 5400)\n",
    "            )\n",
    "            # df wird sinnvoll benannt abgespeichert\n",
    "            df.to_csv('data/04_raw_financial/pump_{coin}_{date}_binance.csv'.format(coin=pumped_coin,date=dt.strftime(pumptime,'%Y%m%d')))\n",
    "\n",
    "            # convert the dtypes\n",
    "            df = full_converter(df)\n",
    "            df.to_csv('data/04_raw_financial/pump_{coin}_{date}_binance__simplified.csv'.format(coin=pumped_coin,date=dt.strftime(pumptime,'%Y%m%d')))\n",
    "        except:\n",
    "            pass\n",
    "    print('------------------','done')"
   ]
  },
  {
   "cell_type": "code",
   "execution_count": null,
   "metadata": {},
   "outputs": [],
   "source": [
    "get_save_data(binance_pumps)"
   ]
  },
  {
   "cell_type": "code",
   "execution_count": 62,
   "metadata": {},
   "outputs": [],
   "source": [
    "def get_save_context_data(pairing,time):\n",
    "    try:\n",
    "        df = get_pairing_data(\n",
    "            pairing,\n",
    "            3,\n",
    "            time + timedelta(seconds = 5400)\n",
    "        )\n",
    "        pumped_coin = pairing[:-3]\n",
    "        # df wird sinnvoll benannt abgespeichert\n",
    "        df.to_csv('data/04_raw_financial/context_{coin}_{date}_binance.csv'.format(coin=pumped_coin,date=dt.strftime(time,'%Y%m%d')))\n",
    "\n",
    "        # convert the dtypes\n",
    "        df = full_converter(df)\n",
    "        df.to_csv('data/04_raw_financial/context_{coin}_{date}_binance__simplified.csv'.format(coin=pumped_coin,date=dt.strftime(time,'%Y%m%d')))\n",
    "    except:\n",
    "        pass"
   ]
  },
  {
   "cell_type": "code",
   "execution_count": null,
   "metadata": {},
   "outputs": [],
   "source": [
    "# pd.read_csv('data/04_raw_financial/pump_{coin}_{date}_binance__simplified.csv'.format(coin='oax',date='20181018')).high.plot()"
   ]
  },
  {
   "cell_type": "code",
   "execution_count": 17,
   "metadata": {},
   "outputs": [],
   "source": [
    "from random import randint, choice\n",
    "import datetime\n",
    "seconds_offset = 75600+3600 # leads to 22:00 gmt\n",
    "def get_random_pumptime():\n",
    "    start = 17532 # jan 2018\n",
    "    end = 19069 # march 2022\n",
    "    randy = randint(start,end)\n",
    "    evening_ts = randy*3600*24+seconds_offset\n",
    "    return datetime.datetime.utcfromtimestamp(evening_ts)\n"
   ]
  },
  {
   "cell_type": "code",
   "execution_count": 5,
   "metadata": {},
   "outputs": [
    {
     "data": {
      "text/plain": [
       "427"
      ]
     },
     "execution_count": 5,
     "metadata": {},
     "output_type": "execute_result"
    }
   ],
   "source": [
    "# request random coin data to improve training set\n",
    "from binance.client import Client\n",
    "\n",
    "api_key = \"hsr4OHNEtsIowVxhYxLs3g6Vr0e8qlRzZacYSjeTxMPrHP2fCxoSnkiyjzkqgGrU\"\n",
    "api_secret = \"F5zU6VRC66M2NiEKvf3SQmmUeHJCS77NgibSZmjZjLpkAZcca9MnUsVUmyz3tSQ0\"\n",
    "\n",
    "client = Client(api_key, api_secret)\n",
    "exchange_info = client.get_exchange_info()\n",
    "markets_list = exchange_info['symbols']\n",
    "btc_markets = [\n",
    "    market['symbol'] for market in markets_list if 'BTC' in market['symbol']\n",
    "]\n",
    "\n",
    "import pickle\n",
    "with open('references/binance_btc_markets.pkl','wb') as f:\n",
    "    pickle.dump(btc_markets, f)\n",
    "\n",
    "len(btc_markets)"
   ]
  },
  {
   "cell_type": "code",
   "execution_count": null,
   "metadata": {},
   "outputs": [],
   "source": []
  },
  {
   "cell_type": "code",
   "execution_count": 43,
   "metadata": {},
   "outputs": [
    {
     "data": {
      "text/plain": [
       "'ABC'"
      ]
     },
     "execution_count": 43,
     "metadata": {},
     "output_type": "execute_result"
    }
   ],
   "source": [
    "'ABCBTC'[:-3]"
   ]
  },
  {
   "cell_type": "code",
   "execution_count": 68,
   "metadata": {},
   "outputs": [
    {
     "data": {
      "text/plain": [
       "'ABC'"
      ]
     },
     "execution_count": 68,
     "metadata": {},
     "output_type": "execute_result"
    }
   ],
   "source": [
    "'ABCBTC'.replace('BTC','')"
   ]
  },
  {
   "cell_type": "code",
   "execution_count": 53,
   "metadata": {},
   "outputs": [],
   "source": [
    "# check if data is available\n",
    "def check_if_new_data(pair,time):\n",
    "    save_path = 'data/04_raw_financial/pump_{coin}_{date}_binance.csv'.format(coin=pair.replace('BTC',''),date=dt.strftime(time,'%Y%m%d'))\n",
    "    return not exists(save_path)"
   ]
  },
  {
   "cell_type": "code",
   "execution_count": null,
   "metadata": {},
   "outputs": [],
   "source": [
    "[\n",
    "    get_save_context_data(choice(btc_markets),get_random_pumptime())\n",
    "    for i in range(1000)\n",
    "]"
   ]
  }
 ],
 "metadata": {
  "interpreter": {
   "hash": "65dee9a9d1a923d78ab16c84a55db276e0248384890ce461db8ba4ddd71fba4b"
  },
  "kernelspec": {
   "display_name": "Python 3.9.10 64-bit ('busters': conda)",
   "language": "python",
   "name": "python3"
  },
  "language_info": {
   "codemirror_mode": {
    "name": "ipython",
    "version": 3
   },
   "file_extension": ".py",
   "mimetype": "text/x-python",
   "name": "python",
   "nbconvert_exporter": "python",
   "pygments_lexer": "ipython3",
   "version": "3.9.10"
  },
  "orig_nbformat": 4
 },
 "nbformat": 4,
 "nbformat_minor": 2
}
