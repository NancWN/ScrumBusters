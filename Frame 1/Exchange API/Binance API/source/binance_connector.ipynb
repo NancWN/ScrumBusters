{
 "cells": [
  {
   "cell_type": "code",
   "execution_count": 190,
   "metadata": {},
   "outputs": [],
   "source": [
    "from binance.spot import Spot\n",
    "client = Spot(base_url ='https://api2.binance.com')\n",
    "import pandas as pd\n",
    "from datetime import datetime as dt\n",
    "from math import ceil"
   ]
  },
  {
   "cell_type": "code",
   "execution_count": 191,
   "metadata": {},
   "outputs": [],
   "source": [
    "batch_number = 6"
   ]
  },
  {
   "cell_type": "code",
   "execution_count": 192,
   "metadata": {},
   "outputs": [],
   "source": [
    "#%cd .."
   ]
  },
  {
   "cell_type": "code",
   "execution_count": 193,
   "metadata": {},
   "outputs": [],
   "source": [
    "pumps_df = pd.read_csv('data/pump_events/sample_batch{}_pump_events.csv'.format(batch_number))"
   ]
  },
  {
   "cell_type": "code",
   "execution_count": 194,
   "metadata": {},
   "outputs": [],
   "source": [
    "binance_pumps = pumps_df.loc[pumps_df.exchange =='binance'].copy()\n",
    "binance_pumps.loc[:,'datetime'] = pd.to_datetime([\n",
    "    dtstring[:-6]\n",
    "    for dtstring in binance_pumps.datetime\n",
    "])\n",
    "from datetime import timezone\n",
    "binance_pumps.loc[:,'tz_utc'] = [\n",
    "    dt_value.replace(tzinfo=timezone.utc).timestamp()\n",
    "    for dt_value in binance_pumps.datetime\n",
    "]"
   ]
  },
  {
   "cell_type": "code",
   "execution_count": 195,
   "metadata": {},
   "outputs": [
    {
     "data": {
      "text/html": [
       "<div>\n",
       "<style scoped>\n",
       "    .dataframe tbody tr th:only-of-type {\n",
       "        vertical-align: middle;\n",
       "    }\n",
       "\n",
       "    .dataframe tbody tr th {\n",
       "        vertical-align: top;\n",
       "    }\n",
       "\n",
       "    .dataframe thead th {\n",
       "        text-align: right;\n",
       "    }\n",
       "</style>\n",
       "<table border=\"1\" class=\"dataframe\">\n",
       "  <thead>\n",
       "    <tr style=\"text-align: right;\">\n",
       "      <th></th>\n",
       "      <th>exchange</th>\n",
       "      <th>datetime</th>\n",
       "      <th>coin</th>\n",
       "      <th>batch</th>\n",
       "      <th>found_pump_msg_id</th>\n",
       "      <th>tz_utc</th>\n",
       "    </tr>\n",
       "  </thead>\n",
       "  <tbody>\n",
       "    <tr>\n",
       "      <th>0</th>\n",
       "      <td>binance</td>\n",
       "      <td>2021-10-31 17:00:05</td>\n",
       "      <td>ez</td>\n",
       "      <td>6</td>\n",
       "      <td>4354</td>\n",
       "      <td>1.635700e+09</td>\n",
       "    </tr>\n",
       "    <tr>\n",
       "      <th>1</th>\n",
       "      <td>binance</td>\n",
       "      <td>2021-11-07 17:00:04</td>\n",
       "      <td>mth</td>\n",
       "      <td>6</td>\n",
       "      <td>5985</td>\n",
       "      <td>1.636304e+09</td>\n",
       "    </tr>\n",
       "    <tr>\n",
       "      <th>2</th>\n",
       "      <td>binance</td>\n",
       "      <td>2021-11-28 17:00:05</td>\n",
       "      <td>phb</td>\n",
       "      <td>6</td>\n",
       "      <td>5965</td>\n",
       "      <td>1.638119e+09</td>\n",
       "    </tr>\n",
       "    <tr>\n",
       "      <th>3</th>\n",
       "      <td>binance</td>\n",
       "      <td>2021-10-24 17:00:07</td>\n",
       "      <td>evx</td>\n",
       "      <td>6</td>\n",
       "      <td>6022</td>\n",
       "      <td>1.635095e+09</td>\n",
       "    </tr>\n",
       "    <tr>\n",
       "      <th>5</th>\n",
       "      <td>binance</td>\n",
       "      <td>2022-01-02 17:00:07</td>\n",
       "      <td>nebl</td>\n",
       "      <td>6</td>\n",
       "      <td>4230</td>\n",
       "      <td>1.641143e+09</td>\n",
       "    </tr>\n",
       "  </tbody>\n",
       "</table>\n",
       "</div>"
      ],
      "text/plain": [
       "  exchange            datetime  coin  batch  found_pump_msg_id        tz_utc\n",
       "0  binance 2021-10-31 17:00:05    ez      6               4354  1.635700e+09\n",
       "1  binance 2021-11-07 17:00:04   mth      6               5985  1.636304e+09\n",
       "2  binance 2021-11-28 17:00:05   phb      6               5965  1.638119e+09\n",
       "3  binance 2021-10-24 17:00:07   evx      6               6022  1.635095e+09\n",
       "5  binance 2022-01-02 17:00:07  nebl      6               4230  1.641143e+09"
      ]
     },
     "execution_count": 195,
     "metadata": {},
     "output_type": "execute_result"
    }
   ],
   "source": [
    "binance_pumps"
   ]
  },
  {
   "cell_type": "code",
   "execution_count": 196,
   "metadata": {},
   "outputs": [],
   "source": [
    "# set input parameters\n",
    "# pairing_list = [INPT]\n",
    "end_date = dt.now()\n",
    "timeframe_d = 365"
   ]
  },
  {
   "cell_type": "code",
   "execution_count": 197,
   "metadata": {},
   "outputs": [],
   "source": [
    "# col names\n",
    "cols = [\n",
    "    'open_time',\n",
    "    'open',\n",
    "    'high',\n",
    "    'low',\n",
    "    'close',\n",
    "    'volume',\n",
    "    'close_time',\n",
    "    'quote_asset_volume',\n",
    "    'n_trades',\n",
    "    'taker_buy_base_asset_volume',\n",
    "    'taker_buy_quote_asset_volume',\n",
    "    'ignore'\n",
    "]"
   ]
  },
  {
   "cell_type": "code",
   "execution_count": 198,
   "metadata": {},
   "outputs": [],
   "source": [
    "def get_endtimes(range_d, final_datetime):\n",
    "    calls_n = ceil(range_d*24*60/1000)\n",
    "    # convert final datetime to unix timestamp\n",
    "    final_datetime= final_datetime.replace(second=0, microsecond=0)\n",
    "    final_ts = int(dt.timestamp(final_datetime)*1000)\n",
    "    # create anchor values\n",
    "    anchors = range(-calls_n,1)\n",
    "    # turn anchor values into timestamps for the api call\n",
    "    call_times = [\n",
    "        60*1000*1000*anchor + final_ts\n",
    "        for anchor in anchors\n",
    "    ]\n",
    "    return call_times"
   ]
  },
  {
   "cell_type": "code",
   "execution_count": 199,
   "metadata": {},
   "outputs": [],
   "source": [
    "def klines_call(pairing,end):\n",
    "    data=client.klines(symbol=pairing,interval='1m',limit=1000,endTime=end)\n",
    "    df = pd.DataFrame(data=data)\n",
    "    return df"
   ]
  },
  {
   "cell_type": "code",
   "execution_count": 200,
   "metadata": {},
   "outputs": [],
   "source": [
    "def get_pairing_data(pairing,range_d,final_datetime='now'):\n",
    "    if final_datetime == 'now':\n",
    "        end = dt.now()\n",
    "    else:\n",
    "        end = final_datetime\n",
    "    endtimes_list = get_endtimes(range_d,end)\n",
    "    df_list = [\n",
    "        klines_call(pairing,time)\n",
    "        for time in endtimes_list\n",
    "    ]\n",
    "    df = pd.concat(df_list)\n",
    "    df.columns = cols\n",
    "    df.drop(['ignore'],axis=1,inplace=True)\n",
    "    df.loc[:,'pairing'] = pairing\n",
    "    df.reset_index(inplace=True,drop=True)\n",
    "    return df"
   ]
  },
  {
   "cell_type": "code",
   "execution_count": 201,
   "metadata": {},
   "outputs": [],
   "source": [
    "def ohlc_value_converter(convstr):\n",
    "    if convstr[:3] == '0.0':\n",
    "        convstr = convstr[3:]\n",
    "    return float(convstr)\n",
    "\n",
    "def series_converter(ser):\n",
    "    converted = [\n",
    "        ohlc_value_converter(convstr)\n",
    "        for convstr in ser\n",
    "    ]\n",
    "    return converted\n",
    "\n",
    "def ohlc_converter(df):\n",
    "    copy = df.copy()\n",
    "    ohlc_list = ['open','high','low','close']\n",
    "    for entry in ohlc_list:\n",
    "        copy.loc[:,entry] = series_converter(copy.loc[:,entry])\n",
    "    return copy\n",
    "\n",
    "def non_ohlc_converter(df):\n",
    "    copy = df.copy()\n",
    "    copy.volume = df.volume.astype(float)\n",
    "    copy.quote_asset_volume = df.quote_asset_volume.astype(float)\n",
    "    copy.taker_buy_base_asset_volume = df.taker_buy_base_asset_volume.astype(float)\n",
    "    copy.taker_buy_quote_asset_volume = df.taker_buy_quote_asset_volume.astype(float)\n",
    "    return copy\n",
    "\n",
    "def full_converter(df):\n",
    "    df = ohlc_converter(df)\n",
    "    df = non_ohlc_converter(df)\n",
    "    return df"
   ]
  },
  {
   "cell_type": "code",
   "execution_count": 202,
   "metadata": {},
   "outputs": [],
   "source": [
    "from datetime import timedelta\n",
    "def get_save_data(events):\n",
    "    # iterate over binance_pumps dataframe\n",
    "    for entry in events.index:\n",
    "        # take the pairing\n",
    "        pumped_coin = events.coin[entry]\n",
    "        pairing = '{}BTC'.format(pumped_coin.upper())\n",
    "        # df für ein Pairing wird erstellt\n",
    "        pumptime = events.datetime[entry]\n",
    "        df = get_pairing_data(\n",
    "            pairing,\n",
    "            3,\n",
    "            pumptime + timedelta(seconds = 5400)\n",
    "        )\n",
    "        # df wird sinnvoll benannt abgespeichert\n",
    "        df.to_csv('data/financial/pump_{coin}_{date}_binance.csv'.format(coin=pumped_coin,date=dt.strftime(pumptime,'%Y%m%d')))\n",
    "\n",
    "        # convert the dtypes\n",
    "        df = full_converter(df)\n",
    "        df.to_csv('data/financial/pump_{coin}_{date}_binance__simplified.csv'.format(coin=pumped_coin,date=dt.strftime(pumptime,'%Y%m%d')))"
   ]
  },
  {
   "cell_type": "code",
   "execution_count": 203,
   "metadata": {},
   "outputs": [],
   "source": [
    "get_save_data(binance_pumps)"
   ]
  },
  {
   "cell_type": "code",
   "execution_count": 206,
   "metadata": {},
   "outputs": [
    {
     "data": {
      "text/plain": [
       "<AxesSubplot:>"
      ]
     },
     "execution_count": 206,
     "metadata": {},
     "output_type": "execute_result"
    },
    {
     "data": {
      "image/png": "[encoded data removed]",
      "text/plain": [
       "<Figure size 432x288 with 1 Axes>"
      ]
     },
     "metadata": {
      "needs_background": "light"
     },
     "output_type": "display_data"
    }
   ],
   "source": [
    "pd.read_csv('data/financial/pump_{coin}_{date}_binance__simplified.csv'.format(coin='evx',date='20211024')).high.plot()"
   ]
  }
 ],
 "metadata": {
  "interpreter": {
   "hash": "65dee9a9d1a923d78ab16c84a55db276e0248384890ce461db8ba4ddd71fba4b"
  },
  "kernelspec": {
   "display_name": "Python 3.9.10 64-bit ('busters': conda)",
   "language": "python",
   "name": "python3"
  },
  "language_info": {
   "codemirror_mode": {
    "name": "ipython",
    "version": 3
   },
   "file_extension": ".py",
   "mimetype": "text/x-python",
   "name": "python",
   "nbconvert_exporter": "python",
   "pygments_lexer": "ipython3",
   "version": "3.9.10"
  },
  "orig_nbformat": 4
 },
 "nbformat": 4,
 "nbformat_minor": 2
}
