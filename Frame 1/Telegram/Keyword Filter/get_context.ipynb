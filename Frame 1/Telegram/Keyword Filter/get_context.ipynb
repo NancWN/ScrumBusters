{
 "cells": [
  {
   "cell_type": "code",
   "execution_count": 2,
   "metadata": {},
   "outputs": [],
   "source": [
    "batch_number = 6\n",
    "message_path = 'data/01_raw_chat/manual_channel_list_messages.csv'"
   ]
  },
  {
   "cell_type": "code",
   "execution_count": 3,
   "metadata": {},
   "outputs": [
    {
     "name": "stdout",
     "output_type": "stream",
     "text": [
      "G:\\Meine Ablage\\TechLabs\\Scam Busters\n"
     ]
    }
   ],
   "source": [
    "%cd G:\\Meine Ablage\\TechLabs\\Scam Busters"
   ]
  },
  {
   "cell_type": "code",
   "execution_count": 4,
   "metadata": {},
   "outputs": [],
   "source": [
    "# run this cell to change working directory to its parent directory\n",
    "#%cd .."
   ]
  },
  {
   "cell_type": "code",
   "execution_count": 5,
   "metadata": {},
   "outputs": [],
   "source": [
    "import pandas as pd"
   ]
  },
  {
   "cell_type": "code",
   "execution_count": 6,
   "metadata": {},
   "outputs": [],
   "source": [
    "#telegram chat export (csv-file)\n",
    "searchlists=pd.read_csv(message_path, sep=',',na_values = ['no info', '.'])\n",
    "searchlists.text= searchlists.text.astype('str')"
   ]
  },
  {
   "cell_type": "code",
   "execution_count": 7,
   "metadata": {},
   "outputs": [],
   "source": [
    "def get_context(id):\n",
    "    context = searchlists.iloc[id-12:id+1]\n",
    "    return context[['text','date','chat']]"
   ]
  },
  {
   "cell_type": "code",
   "execution_count": 70,
   "metadata": {},
   "outputs": [
    {
     "data": {
      "text/html": [
       "<div>\n",
       "<style scoped>\n",
       "    .dataframe tbody tr th:only-of-type {\n",
       "        vertical-align: middle;\n",
       "    }\n",
       "\n",
       "    .dataframe tbody tr th {\n",
       "        vertical-align: top;\n",
       "    }\n",
       "\n",
       "    .dataframe thead th {\n",
       "        text-align: right;\n",
       "    }\n",
       "</style>\n",
       "<table border=\"1\" class=\"dataframe\">\n",
       "  <thead>\n",
       "    <tr style=\"text-align: right;\">\n",
       "      <th></th>\n",
       "      <th>text</th>\n",
       "      <th>date</th>\n",
       "      <th>chat</th>\n",
       "    </tr>\n",
       "  </thead>\n",
       "  <tbody>\n",
       "    <tr>\n",
       "      <th>8203</th>\n",
       "      <td>💰🚀today gate.io pump analysis 💰🚀..coin: 💥dlta💥...</td>\n",
       "      <td>2022-02-01 18:37:31+00:00</td>\n",
       "      <td>Binance Pump Company® (Dubai)</td>\n",
       "    </tr>\n",
       "    <tr>\n",
       "      <th>8204</th>\n",
       "      <td>nan</td>\n",
       "      <td>2022-02-01 18:37:27+00:00</td>\n",
       "      <td>Binance Pump Company® (Dubai)</td>\n",
       "    </tr>\n",
       "    <tr>\n",
       "      <th>8205</th>\n",
       "      <td>good pump 💯💯💯</td>\n",
       "      <td>2022-02-01 18:37:17+00:00</td>\n",
       "      <td>Binance Pump Company® (Dubai)</td>\n",
       "    </tr>\n",
       "    <tr>\n",
       "      <th>8206</th>\n",
       "      <td>omg !!! %35 profit !!! go go go</td>\n",
       "      <td>2022-02-01 18:34:38+00:00</td>\n",
       "      <td>Binance Pump Company® (Dubai)</td>\n",
       "    </tr>\n",
       "    <tr>\n",
       "      <th>8207</th>\n",
       "      <td>💥💥💥%30 profit !!! good pump !</td>\n",
       "      <td>2022-02-01 18:31:07+00:00</td>\n",
       "      <td>Binance Pump Company® (Dubai)</td>\n",
       "    </tr>\n",
       "    <tr>\n",
       "      <th>8208</th>\n",
       "      <td>coin is; dlta..💸 buy buy buy 💸</td>\n",
       "      <td>2022-02-01 18:30:13+00:00</td>\n",
       "      <td>Binance Pump Company® (Dubai)</td>\n",
       "    </tr>\n",
       "    <tr>\n",
       "      <th>8209</th>\n",
       "      <td>🚨next post will be the gate.ıo coin !!!🚨 . .🎟5...</td>\n",
       "      <td>2022-02-01 18:25:19+00:00</td>\n",
       "      <td>Binance Pump Company® (Dubai)</td>\n",
       "    </tr>\n",
       "    <tr>\n",
       "      <th>8210</th>\n",
       "      <td>🔥30 mins.  left until the massive pump on gate...</td>\n",
       "      <td>2022-02-01 18:02:39+00:00</td>\n",
       "      <td>Binance Pump Company® (Dubai)</td>\n",
       "    </tr>\n",
       "    <tr>\n",
       "      <th>8211</th>\n",
       "      <td>🔥2 hours  left until the massive pump on gate....</td>\n",
       "      <td>2022-02-01 16:31:21+00:00</td>\n",
       "      <td>Binance Pump Company® (Dubai)</td>\n",
       "    </tr>\n",
       "    <tr>\n",
       "      <th>8212</th>\n",
       "      <td>🔥3 hours  left until the massive pump on gate....</td>\n",
       "      <td>2022-02-01 15:32:07+00:00</td>\n",
       "      <td>Binance Pump Company® (Dubai)</td>\n",
       "    </tr>\n",
       "    <tr>\n",
       "      <th>8213</th>\n",
       "      <td>💰new gate.io pump announcement💰..⏳date :  01.0...</td>\n",
       "      <td>2022-01-30 22:50:21+00:00</td>\n",
       "      <td>Binance Pump Company® (Dubai)</td>\n",
       "    </tr>\n",
       "    <tr>\n",
       "      <th>8214</th>\n",
       "      <td>nan</td>\n",
       "      <td>2022-01-30 22:50:01+00:00</td>\n",
       "      <td>Binance Pump Company® (Dubai)</td>\n",
       "    </tr>\n",
       "    <tr>\n",
       "      <th>8215</th>\n",
       "      <td>💰🚀today gate.io pump analysis 💰🚀..coin: 💥skyri...</td>\n",
       "      <td>2022-01-30 18:51:48+00:00</td>\n",
       "      <td>Binance Pump Company® (Dubai)</td>\n",
       "    </tr>\n",
       "  </tbody>\n",
       "</table>\n",
       "</div>"
      ],
      "text/plain": [
       "                                                   text  \\\n",
       "8203  💰🚀today gate.io pump analysis 💰🚀..coin: 💥dlta💥...   \n",
       "8204                                                nan   \n",
       "8205                                      good pump 💯💯💯   \n",
       "8206                    omg !!! %35 profit !!! go go go   \n",
       "8207                      💥💥💥%30 profit !!! good pump !   \n",
       "8208                     coin is; dlta..💸 buy buy buy 💸   \n",
       "8209  🚨next post will be the gate.ıo coin !!!🚨 . .🎟5...   \n",
       "8210  🔥30 mins.  left until the massive pump on gate...   \n",
       "8211  🔥2 hours  left until the massive pump on gate....   \n",
       "8212  🔥3 hours  left until the massive pump on gate....   \n",
       "8213  💰new gate.io pump announcement💰..⏳date :  01.0...   \n",
       "8214                                                nan   \n",
       "8215  💰🚀today gate.io pump analysis 💰🚀..coin: 💥skyri...   \n",
       "\n",
       "                           date                           chat  \n",
       "8203  2022-02-01 18:37:31+00:00  Binance Pump Company® (Dubai)  \n",
       "8204  2022-02-01 18:37:27+00:00  Binance Pump Company® (Dubai)  \n",
       "8205  2022-02-01 18:37:17+00:00  Binance Pump Company® (Dubai)  \n",
       "8206  2022-02-01 18:34:38+00:00  Binance Pump Company® (Dubai)  \n",
       "8207  2022-02-01 18:31:07+00:00  Binance Pump Company® (Dubai)  \n",
       "8208  2022-02-01 18:30:13+00:00  Binance Pump Company® (Dubai)  \n",
       "8209  2022-02-01 18:25:19+00:00  Binance Pump Company® (Dubai)  \n",
       "8210  2022-02-01 18:02:39+00:00  Binance Pump Company® (Dubai)  \n",
       "8211  2022-02-01 16:31:21+00:00  Binance Pump Company® (Dubai)  \n",
       "8212  2022-02-01 15:32:07+00:00  Binance Pump Company® (Dubai)  \n",
       "8213  2022-01-30 22:50:21+00:00  Binance Pump Company® (Dubai)  \n",
       "8214  2022-01-30 22:50:01+00:00  Binance Pump Company® (Dubai)  \n",
       "8215  2022-01-30 18:51:48+00:00  Binance Pump Company® (Dubai)  "
      ]
     },
     "execution_count": 70,
     "metadata": {},
     "output_type": "execute_result"
    }
   ],
   "source": [
    "#if you want to look at a specific message, just take the message_id and put it in .text[message_id]\n",
    "get_context(8215)#.text[11742]\n"
   ]
  }
 ],
 "metadata": {
  "interpreter": {
   "hash": "65dee9a9d1a923d78ab16c84a55db276e0248384890ce461db8ba4ddd71fba4b"
  },
  "kernelspec": {
   "display_name": "Python 3.9.10 ('busters')",
   "language": "python",
   "name": "python3"
  },
  "language_info": {
   "codemirror_mode": {
    "name": "ipython",
    "version": 3
   },
   "file_extension": ".py",
   "mimetype": "text/x-python",
   "name": "python",
   "nbconvert_exporter": "python",
   "pygments_lexer": "ipython3",
   "version": "3.9.10"
  },
  "orig_nbformat": 4
 },
 "nbformat": 4,
 "nbformat_minor": 2
}
