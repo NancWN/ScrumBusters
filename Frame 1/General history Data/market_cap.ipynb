{
 "cells": [
  {
   "cell_type": "code",
   "execution_count": 1,
   "metadata": {},
   "outputs": [],
   "source": [
    "import requests\n",
    "import json"
   ]
  },
  {
   "cell_type": "code",
   "execution_count": 2,
   "metadata": {},
   "outputs": [],
   "source": [
    "vs_currency = \"usd\"\n"
   ]
  },
  {
   "cell_type": "code",
   "execution_count": 3,
   "metadata": {},
   "outputs": [],
   "source": [
    "market_cap_url = f\"https://api.coingecko.com/api/v3/coins/markets?vs_currency={vs_currency}&order=market_cap_desc\""
   ]
  },
  {
   "cell_type": "code",
   "execution_count": 4,
   "metadata": {},
   "outputs": [
    {
     "name": "stdout",
     "output_type": "stream",
     "text": [
      "<Response [200]>\n"
     ]
    }
   ],
   "source": [
    "r = requests.get(market_cap_url)\n",
    "print(r)"
   ]
  },
  {
   "cell_type": "code",
   "execution_count": 5,
   "metadata": {},
   "outputs": [],
   "source": [
    "market_cap_data = r.json()\n"
   ]
  },
  {
   "cell_type": "code",
   "execution_count": 7,
   "metadata": {},
   "outputs": [],
   "source": [
    "with open('market_cap.json', 'w') as f:\n",
    "    f.write(json.dumps(market_cap_data, indent=4))\n"
   ]
  },
  {
   "cell_type": "code",
   "execution_count": 21,
   "metadata": {},
   "outputs": [
    {
     "name": "stdout",
     "output_type": "stream",
     "text": [
      "bitcoin has a market cap of  726881757759 usd\n",
      "ethereum has a market cap of  311990109041 usd\n",
      "tether has a market cap of  79838500604 usd\n",
      "binancecoin has a market cap of  62945705626 usd\n",
      "usd-coin has a market cap of  53000562151 usd\n",
      "ripple has a market cap of  35148242204 usd\n",
      "terra-luna has a market cap of  30183868453 usd\n",
      "solana has a market cap of  27716433617 usd\n",
      "cardano has a market cap of  26716072850 usd\n",
      "avalanche-2 has a market cap of  19717144307 usd\n",
      "polkadot has a market cap of  18203826081 usd\n",
      "binance-usd has a market cap of  17933508617 usd\n",
      "dogecoin has a market cap of  16215929721 usd\n",
      "terrausd has a market cap of  13709238102 usd\n",
      "shiba-inu has a market cap of  13040796195 usd\n",
      "wrapped-bitcoin has a market cap of  10220003794 usd\n",
      "matic-network has a market cap of  10036972220 usd\n",
      "crypto-com-chain has a market cap of  9978002700 usd\n",
      "dai has a market cap of  9283894182 usd\n",
      "cosmos has a market cap of  8341802876 usd\n",
      "litecoin has a market cap of  7119700073 usd\n",
      "near has a market cap of  6651685439 usd\n",
      "chainlink has a market cap of  6309322162 usd\n",
      "tron has a market cap of  6101849578 usd\n",
      "ftx-token has a market cap of  5515137476 usd\n",
      "staked-ether has a market cap of  5474050080 usd\n",
      "bitcoin-cash has a market cap of  5414033268 usd\n",
      "leo-token has a market cap of  5031186513 usd\n",
      "algorand has a market cap of  4945364659 usd\n",
      "okb has a market cap of  4636042084 usd\n",
      "stellar has a market cap of  4308342647 usd\n",
      "hedera-hashgraph has a market cap of  4011397357 usd\n",
      "uniswap has a market cap of  3889151446 usd\n",
      "fantom has a market cap of  3685422777 usd\n",
      "axie-infinity has a market cap of  3681980502 usd\n",
      "decentraland has a market cap of  3680445108 usd\n",
      "ethereum-classic has a market cap of  3583650705 usd\n",
      "internet-computer has a market cap of  3552150169 usd\n",
      "the-sandbox has a market cap of  3282323145 usd\n",
      "vechain has a market cap of  3232984974 usd\n",
      "filecoin has a market cap of  3218677149 usd\n",
      "osmosis has a market cap of  3085938920 usd\n",
      "compound-ether has a market cap of  3055953684 usd\n",
      "klay-token has a market cap of  3013448961 usd\n",
      "monero has a market cap of  2999317619 usd\n",
      "elrond-erd-2 has a market cap of  2921940664 usd\n",
      "frax has a market cap of  2901078517 usd\n",
      "magic-internet-money has a market cap of  2789049706 usd\n",
      "theta-token has a market cap of  2733049801 usd\n",
      "tezos has a market cap of  2635600862 usd\n",
      "compound-usd-coin has a market cap of  2596958695 usd\n",
      "ecomi has a market cap of  2271334237 usd\n",
      "helium has a market cap of  2130678436 usd\n",
      "the-graph has a market cap of  2081858897 usd\n",
      "iota has a market cap of  1978968755 usd\n",
      "eos has a market cap of  1966153414 usd\n",
      "cdai has a market cap of  1936280624 usd\n",
      "theta-fuel has a market cap of  1886178774 usd\n",
      "flow has a market cap of  1884379612 usd\n",
      "juno-network has a market cap of  1832648036 usd\n",
      "waves has a market cap of  1826165569 usd\n",
      "bittorrent has a market cap of  1683950638 usd\n",
      "gala has a market cap of  1682203936 usd\n",
      "pancakeswap-token has a market cap of  1656053530 usd\n",
      "aave has a market cap of  1624868899 usd\n",
      "maker has a market cap of  1598300496 usd\n",
      "harmony has a market cap of  1544041180 usd\n",
      "huobi-btc has a market cap of  1528091154 usd\n",
      "quant-network has a market cap of  1526083385 usd\n",
      "bitcoin-cash-sv has a market cap of  1498112084 usd\n",
      "neo has a market cap of  1473170758 usd\n",
      "true-usd has a market cap of  1441976795 usd\n",
      "huobi-token has a market cap of  1438322709 usd\n",
      "arweave has a market cap of  1423134798 usd\n",
      "kucoin-shares has a market cap of  1389436756 usd\n",
      "thorchain has a market cap of  1388855665 usd\n",
      "ecash has a market cap of  1339352577 usd\n",
      "radix has a market cap of  1335721613 usd\n",
      "zcash has a market cap of  1335424194 usd\n",
      "humans-ai has a market cap of  1309127902 usd\n",
      "enjincoin has a market cap of  1278562906 usd\n",
      "amp-token has a market cap of  1278261376 usd\n",
      "celsius-degree-token has a market cap of  1260435326 usd\n",
      "frax-share has a market cap of  1251552604 usd\n",
      "anchor-protocol has a market cap of  1206750364 usd\n",
      "chiliz has a market cap of  1145724434 usd\n",
      "blockstack has a market cap of  1144417663 usd\n",
      "celo has a market cap of  1133673683 usd\n",
      "kadena has a market cap of  1108999237 usd\n",
      "nexo has a market cap of  1083491793 usd\n",
      "kusama has a market cap of  1059686762 usd\n",
      "gatechain-token has a market cap of  1020486515 usd\n",
      "paxos-standard has a market cap of  983783656 usd\n",
      "basic-attention-token has a market cap of  966073839 usd\n",
      "bitdao has a market cap of  961181949 usd\n",
      "convex-finance has a market cap of  919429170 usd\n",
      "loopring has a market cap of  909783992 usd\n",
      "dash has a market cap of  908761764 usd\n",
      "nem has a market cap of  860094647 usd\n",
      "curve-dao-token has a market cap of  827257366 usd\n"
     ]
    }
   ],
   "source": [
    "for market_cap in market_cap_data:\n",
    "    print(market_cap['id'],\"has a market cap of \", market_cap['market_cap'], vs_currency)\n"
   ]
  },
  {
   "cell_type": "code",
   "execution_count": 22,
   "metadata": {},
   "outputs": [],
   "source": [
    "import pandas"
   ]
  },
  {
   "cell_type": "code",
   "execution_count": 26,
   "metadata": {},
   "outputs": [],
   "source": [
    "pandas.DataFrame(market_cap_data)[['symbol', \"circulating_supply\"]].to_csv(\"circulating_supply.csv\")\n"
   ]
  }
 ],
 "metadata": {
  "interpreter": {
   "hash": "752a3e385b356b32360e64d34aa70b48ac856d754ea5617c506af2a2ada1f8fd"
  },
  "kernelspec": {
   "display_name": "Python 3.8.12 ('pipeline')",
   "language": "python",
   "name": "python3"
  },
  "language_info": {
   "codemirror_mode": {
    "name": "ipython",
    "version": 3
   },
   "file_extension": ".py",
   "mimetype": "text/x-python",
   "name": "python",
   "nbconvert_exporter": "python",
   "pygments_lexer": "ipython3",
   "version": "3.8.12"
  },
  "orig_nbformat": 4
 },
 "nbformat": 4,
 "nbformat_minor": 2
}
