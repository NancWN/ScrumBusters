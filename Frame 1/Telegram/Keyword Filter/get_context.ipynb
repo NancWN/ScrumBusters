{
 "cells": [
  {
   "cell_type": "code",
   "execution_count": null,
   "metadata": {},
   "outputs": [],
   "source": [
    "batch_number = 6\n",
    "message_path = 'Frame 1/Telegram/data/sample/messages_batch{}_old.csv'.format(batch_number)\n"
   ]
  },
  {
   "cell_type": "code",
   "execution_count": null,
   "metadata": {},
   "outputs": [],
   "source": [
    "# run this cell to change working directory to its parent directory\n",
    "#%cd .."
   ]
  },
  {
   "cell_type": "code",
   "execution_count": null,
   "metadata": {},
   "outputs": [],
   "source": [
    "import pandas as pd"
   ]
  },
  {
   "cell_type": "code",
   "execution_count": null,
   "metadata": {},
   "outputs": [],
   "source": [
    "#telegram chat export (csv-file)\n",
    "searchlists=pd.read_csv(message_path, sep=',',na_values = ['no info', '.'])\n",
    "searchlists.text= searchlists.text.astype('str')"
   ]
  },
  {
   "cell_type": "code",
   "execution_count": null,
   "metadata": {},
   "outputs": [],
   "source": [
    "def get_context(id):\n",
    "    context = searchlists.iloc[id-12:id+1]\n",
    "    return context"
   ]
  },
  {
   "cell_type": "code",
   "execution_count": null,
   "metadata": {},
   "outputs": [],
   "source": [
    "#if you want to look at a specific message, just take the message_id and put it in .text[message_id]\n",
    "get_context(4152)#.text[4140]"
   ]
  }
 ],
 "metadata": {
  "interpreter": {
   "hash": "65dee9a9d1a923d78ab16c84a55db276e0248384890ce461db8ba4ddd71fba4b"
  },
  "kernelspec": {
   "display_name": "Python 3.9.10 ('busters')",
   "language": "python",
   "name": "python3"
  },
  "language_info": {
   "codemirror_mode": {
    "name": "ipython",
    "version": 3
   },
   "file_extension": ".py",
   "mimetype": "text/x-python",
   "name": "python",
   "nbconvert_exporter": "python",
   "pygments_lexer": "ipython3",
   "version": "3.9.6"
  },
  "orig_nbformat": 4
 },
 "nbformat": 4,
 "nbformat_minor": 2
}
