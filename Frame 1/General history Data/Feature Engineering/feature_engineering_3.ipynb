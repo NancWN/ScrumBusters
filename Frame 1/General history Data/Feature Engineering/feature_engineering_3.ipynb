{
 "cells": [
  {
   "cell_type": "code",
   "execution_count": 281,
   "metadata": {},
   "outputs": [
    {
     "name": "stdout",
     "output_type": "stream",
     "text": [
      "G:\\Meine Ablage\\TechLabs\\Scam Busters\n"
     ]
    }
   ],
   "source": [
    "%cd G:\\Meine Ablage\\TechLabs\\Scam Busters"
   ]
  },
  {
   "cell_type": "code",
   "execution_count": 282,
   "metadata": {},
   "outputs": [],
   "source": [
    "# imports\n",
    "import requests\n",
    "import json\n",
    "import pandas as pd\n",
    "import numpy as np\n",
    "from os import listdir\n",
    "from os.path import isfile, join\n",
    "import inspect\n",
    "\n",
    "import datetime as dt\n",
    "features_id = dt.date.today().strftime('%Y-%m-%d')\n",
    "\n",
    "# settings to load data\n",
    "mypath = 'data/04_raw_financial/'\n",
    "\n",
    "onlyfiles = [mypath + f for f in listdir(mypath) if (isfile(join(mypath, f)))]\n",
    "\n",
    "onlyfiles = [f for f in onlyfiles if 'simplified' in f ]\n"
   ]
  },
  {
   "cell_type": "code",
   "execution_count": 283,
   "metadata": {},
   "outputs": [],
   "source": [
    "# set threshold value for the pump indicator (max return within 1 minute)\n",
    "successful_pump_threshold = 1.1\n",
    "time_to_pump = 5\n",
    "expected_pump_row = -31"
   ]
  },
  {
   "cell_type": "code",
   "execution_count": 284,
   "metadata": {},
   "outputs": [],
   "source": [
    "pump_status_dict = {\n",
    "    0:'failed',\n",
    "    1:'success',\n",
    "    2:'maybe - wrong time',\n",
    "    3:'maybe - low initial return',\n",
    "    4:'maybe - different reason'\n",
    "}\n",
    "\n",
    "import pickle\n",
    "with open('pump_status_dictionary.pkl', 'wb') as f:\n",
    "    pickle.dump(pump_status_dict, f)"
   ]
  },
  {
   "cell_type": "code",
   "execution_count": 285,
   "metadata": {},
   "outputs": [],
   "source": [
    "def get_pump_success(indicator, indicator_idx, df_length):\n",
    "    if (indicator >= successful_pump_threshold) & (indicator_idx == df_length+expected_pump_row):\n",
    "        return 1\n",
    "    if (indicator >= successful_pump_threshold):\n",
    "        return 2\n",
    "    else:\n",
    "        return 0\n",
    "\n",
    "def pump_success_indicator(file):\n",
    "    df = pd.read_csv(file)\n",
    "    high, open = df.high, df.open\n",
    "    idx_indicator = (high/open).idxmax()\n",
    "    indicator = (high/open)[idx_indicator]\n",
    "    high_max=df['high'].rolling(2).max()\n",
    "    open_max=df['open'].rolling(2).max()\n",
    "    open_max = open_max.dropna().reset_index(drop=True)\n",
    "    max_possible_return = df.iloc[-40:-25].high.max() / df.iloc[-40:-25].low.min()\n",
    "    max_5m_return = (high_max/open_max).dropna().max()\n",
    "    max_5m_return_idx = (high_max/open_max).dropna().idxmax()\n",
    "    pump_success = get_pump_success(indicator,idx_indicator,len(df))\n",
    "    return {'indicator':indicator, 'idx_indicator':idx_indicator,\n",
    "        'max_possible_return':max_possible_return, 'pump_success':pump_success}\n",
    "\n",
    "all_indicators = pd.DataFrame([\n",
    "    pump_success_indicator(file)\n",
    "    for file\n",
    "    in onlyfiles\n",
    "])"
   ]
  },
  {
   "cell_type": "code",
   "execution_count": 286,
   "metadata": {},
   "outputs": [
    {
     "data": {
      "text/html": [
       "<div>\n",
       "<style scoped>\n",
       "    .dataframe tbody tr th:only-of-type {\n",
       "        vertical-align: middle;\n",
       "    }\n",
       "\n",
       "    .dataframe tbody tr th {\n",
       "        vertical-align: top;\n",
       "    }\n",
       "\n",
       "    .dataframe thead th {\n",
       "        text-align: right;\n",
       "    }\n",
       "</style>\n",
       "<table border=\"1\" class=\"dataframe\">\n",
       "  <thead>\n",
       "    <tr style=\"text-align: right;\">\n",
       "      <th></th>\n",
       "      <th>indicator</th>\n",
       "      <th>idx_indicator</th>\n",
       "      <th>max_possible_return</th>\n",
       "      <th>pump_success</th>\n",
       "    </tr>\n",
       "  </thead>\n",
       "  <tbody>\n",
       "    <tr>\n",
       "      <th>0</th>\n",
       "      <td>1.041742</td>\n",
       "      <td>1591</td>\n",
       "      <td>1.001736</td>\n",
       "      <td>0</td>\n",
       "    </tr>\n",
       "    <tr>\n",
       "      <th>1</th>\n",
       "      <td>1.749237</td>\n",
       "      <td>5969</td>\n",
       "      <td>1.750881</td>\n",
       "      <td>1</td>\n",
       "    </tr>\n",
       "    <tr>\n",
       "      <th>2</th>\n",
       "      <td>2.101695</td>\n",
       "      <td>5969</td>\n",
       "      <td>2.293103</td>\n",
       "      <td>1</td>\n",
       "    </tr>\n",
       "    <tr>\n",
       "      <th>3</th>\n",
       "      <td>1.593247</td>\n",
       "      <td>5969</td>\n",
       "      <td>1.616733</td>\n",
       "      <td>1</td>\n",
       "    </tr>\n",
       "    <tr>\n",
       "      <th>4</th>\n",
       "      <td>1.747833</td>\n",
       "      <td>5969</td>\n",
       "      <td>1.784393</td>\n",
       "      <td>1</td>\n",
       "    </tr>\n",
       "    <tr>\n",
       "      <th>...</th>\n",
       "      <td>...</td>\n",
       "      <td>...</td>\n",
       "      <td>...</td>\n",
       "      <td>...</td>\n",
       "    </tr>\n",
       "    <tr>\n",
       "      <th>116</th>\n",
       "      <td>6.035088</td>\n",
       "      <td>5969</td>\n",
       "      <td>6.198198</td>\n",
       "      <td>1</td>\n",
       "    </tr>\n",
       "    <tr>\n",
       "      <th>117</th>\n",
       "      <td>1.025472</td>\n",
       "      <td>523</td>\n",
       "      <td>1.006855</td>\n",
       "      <td>0</td>\n",
       "    </tr>\n",
       "    <tr>\n",
       "      <th>118</th>\n",
       "      <td>1.024691</td>\n",
       "      <td>5880</td>\n",
       "      <td>1.024691</td>\n",
       "      <td>0</td>\n",
       "    </tr>\n",
       "    <tr>\n",
       "      <th>119</th>\n",
       "      <td>1.225806</td>\n",
       "      <td>5974</td>\n",
       "      <td>1.245902</td>\n",
       "      <td>2</td>\n",
       "    </tr>\n",
       "    <tr>\n",
       "      <th>120</th>\n",
       "      <td>1.550725</td>\n",
       "      <td>5969</td>\n",
       "      <td>1.744792</td>\n",
       "      <td>1</td>\n",
       "    </tr>\n",
       "  </tbody>\n",
       "</table>\n",
       "<p>121 rows × 4 columns</p>\n",
       "</div>"
      ],
      "text/plain": [
       "     indicator  idx_indicator  max_possible_return  pump_success\n",
       "0     1.041742           1591             1.001736             0\n",
       "1     1.749237           5969             1.750881             1\n",
       "2     2.101695           5969             2.293103             1\n",
       "3     1.593247           5969             1.616733             1\n",
       "4     1.747833           5969             1.784393             1\n",
       "..         ...            ...                  ...           ...\n",
       "116   6.035088           5969             6.198198             1\n",
       "117   1.025472            523             1.006855             0\n",
       "118   1.024691           5880             1.024691             0\n",
       "119   1.225806           5974             1.245902             2\n",
       "120   1.550725           5969             1.744792             1\n",
       "\n",
       "[121 rows x 4 columns]"
      ]
     },
     "execution_count": 286,
     "metadata": {},
     "output_type": "execute_result"
    }
   ],
   "source": [
    "all_indicators"
   ]
  },
  {
   "cell_type": "code",
   "execution_count": 309,
   "metadata": {},
   "outputs": [
    {
     "data": {
      "text/plain": [
       "[<matplotlib.lines.Line2D at 0x1f909936850>]"
      ]
     },
     "execution_count": 309,
     "metadata": {},
     "output_type": "execute_result"
    },
    {
     "data": {
      "image/png": "[encoded data removed]",
      "text/plain": [
       "<Figure size 1332x468 with 2 Axes>"
      ]
     },
     "metadata": {
      "needs_background": "light"
     },
     "output_type": "display_data"
    }
   ],
   "source": [
    "id = 0\n",
    "raw_df = pd.read_csv(onlyfiles[id])\n",
    "import matplotlib.pyplot as plt\n",
    "fig, (ax1, ax2) = plt.subplots(1, 2)\n",
    "fig.suptitle('high, volume')\n",
    "fig.set_size_inches(18.5, 6.5)\n",
    "ax1.plot(raw_df['Unnamed: 0'], raw_df.high)\n",
    "ax2.plot(raw_df['Unnamed: 0'], raw_df.volume)"
   ]
  },
  {
   "cell_type": "code",
   "execution_count": 288,
   "metadata": {},
   "outputs": [],
   "source": [
    "def returns_before_pump(df,hours_to_pump):\n",
    "    '''returns the ROI if investing hours_to_pump \n",
    "    number of hours before the exit and exiting\n",
    "    time_to_pump minutes before the pump'''\n",
    "    roi = df.high.iloc[-1] / df.high.iloc[ - hours_to_pump * 60 - 1 ]\n",
    "    return roi\n",
    "\n",
    "def get_btc_volume(df,hours_to_pump):\n",
    "    '''returns the total volume for t hours \n",
    "    up until x minutes before the pump'''\n",
    "    return df.quote_asset_volume.iloc[-hours_to_pump*60-1:].sum()\n",
    "\n",
    "def get_coin_volume(df,hours_to_pump):\n",
    "    return df.volume.iloc[-hours_to_pump*60-1:].sum()\n",
    "\n",
    "def get_log_return(df,hours_to_pump):\n",
    "    return 1"
   ]
  },
  {
   "cell_type": "code",
   "execution_count": 289,
   "metadata": {},
   "outputs": [],
   "source": [
    "# full engineering for a single df\n",
    "def compute_features(df):\n",
    "    # cut off everything that will be unknown in reality\n",
    "    df_cutoff = df.iloc[:expected_pump_row-time_to_pump]\n",
    "    df_to_1h = df.iloc[:expected_pump_row-60]\n",
    "\n",
    "    # instantiate empty dict\n",
    "    features = {}\n",
    "\n",
    "    # get features which need a timespan to make sense\n",
    "    hrs = [1,3,12,24,36,48,60,72]\n",
    "    for h in hrs:\n",
    "        features[f'return_{h}hrs_to_cutoff'] = returns_before_pump(df_cutoff,h)\n",
    "        features[f'return_{h}hrs_to_1h'] = returns_before_pump(df_to_1h,h)\n",
    "        features[f'btc_volume_{h}hrs_to_cutoff'] = get_btc_volume(df_cutoff,h)\n",
    "        features[f'btc_volume_{h}hrs_to_1h'] = get_btc_volume(df_to_1h,h)\n",
    "        features[f'coin_volume_{h}hrs_to_cutoff'] = get_coin_volume(df_cutoff,h)\n",
    "        features[f'coin_volume_{h}hrs_to_1h'] = get_coin_volume(df_to_1h,h)\n",
    "    # features to be added\n",
    "    ## coin value in usd\n",
    "    ## return std\n",
    "    ## volume std\n",
    "    ## volume hourly zscore (maybe quarter hourly)\n",
    "    ## pumped_before\n",
    "\n",
    "        \n",
    "    return features"
   ]
  },
  {
   "cell_type": "code",
   "execution_count": 290,
   "metadata": {},
   "outputs": [],
   "source": [
    "# add the label\n",
    "# pump column"
   ]
  },
  {
   "cell_type": "code",
   "execution_count": 291,
   "metadata": {},
   "outputs": [],
   "source": [
    "# get all features\n",
    "engineered_df = pd.DataFrame([\n",
    "    compute_features(pd.read_csv(file))\n",
    "    for file\n",
    "    in onlyfiles\n",
    "])\n",
    "feature_list = engineered_df.columns"
   ]
  },
  {
   "cell_type": "code",
   "execution_count": 292,
   "metadata": {},
   "outputs": [],
   "source": [
    "engineered_df.loc[:,'pumped'] = all_indicators.pump_success.replace(2,0)"
   ]
  },
  {
   "cell_type": "code",
   "execution_count": 293,
   "metadata": {},
   "outputs": [],
   "source": [
    "# add symbols to the engineered_df\n",
    "\n",
    "def get_symbol(path_str):\n",
    "    file_str=path_str[path_str.find('pump')+5:]\n",
    "    file_str = file_str[:file_str.find('_')]\n",
    "    return file_str.upper()"
   ]
  },
  {
   "cell_type": "code",
   "execution_count": 294,
   "metadata": {},
   "outputs": [],
   "source": [
    "engineered_df.loc[:,'symbol'] = [\n",
    "    get_symbol(path_str)\n",
    "    for path_str in onlyfiles\n",
    "]"
   ]
  },
  {
   "cell_type": "code",
   "execution_count": 295,
   "metadata": {},
   "outputs": [],
   "source": [
    "# get market cap data\n",
    "\n",
    "from requests import Request, Session\n",
    "from requests.exceptions import ConnectionError, Timeout, TooManyRedirects\n",
    "import json\n",
    "\n",
    "url = 'https://pro-api.coinmarketcap.com/v1/cryptocurrency/listings/latest'\n",
    "parameters = {\n",
    "  'start':'1',\n",
    "  'limit':'5000',\n",
    "  'convert':'USD'\n",
    "}\n",
    "headers = {\n",
    "  'Accepts': 'application/json',\n",
    "  'X-CMC_PRO_API_KEY': '541aa958-c55e-4527-a3b4-5734f576b6bf',\n",
    "}\n",
    "\n",
    "session = Session()\n",
    "session.headers.update(headers)\n",
    "\n",
    "try:\n",
    "  response = session.get(url, params=parameters)\n",
    "  data = json.loads(response.text)\n",
    "except (ConnectionError, Timeout, TooManyRedirects) as e:\n",
    "  print(e)\n",
    "\n",
    "# unpack and simplify data\n",
    "market_cap_df = pd.DataFrame(response.json()['data'])\n",
    "unpacked = pd.DataFrame(market_cap_df.quote.tolist())\n",
    "unpacked = pd.DataFrame(unpacked.USD.tolist())\n",
    "market_cap_df.loc[:,'market_cap'] = unpacked.market_cap\n",
    "market_cap_df = market_cap_df[['symbol','market_cap','date_added']]"
   ]
  },
  {
   "cell_type": "code",
   "execution_count": 296,
   "metadata": {},
   "outputs": [],
   "source": [
    "# compute the coin age\n",
    "market_cap_df.date_added = [\n",
    "    pd.to_datetime(date).tz_localize(None)\n",
    "    for date in market_cap_df.date_added\n",
    "]\n",
    "today = pd.to_datetime(dt.date.today())\n",
    "market_cap_df.loc[:,'coin_age'] = [\n",
    "    (today-date).days/365\n",
    "    for date in market_cap_df.date_added\n",
    "]\n",
    "# keep only relevant data\n",
    "market_cap_df = market_cap_df[['symbol','market_cap','coin_age']]"
   ]
  },
  {
   "cell_type": "code",
   "execution_count": 297,
   "metadata": {},
   "outputs": [],
   "source": [
    "# add market cap\n",
    "engineered_df = pd.merge(engineered_df, market_cap_df, on='symbol', how = 'left')#.drop(['Unnamed: 0', 'symbol'], axis = 1)\n",
    "engineered_df.market_cap = engineered_df.market_cap.fillna(engineered_df.market_cap.min())\n",
    "# impute missing values\n",
    "engineered_df.coin_age = engineered_df.coin_age.fillna(engineered_df.coin_age.min())"
   ]
  },
  {
   "cell_type": "code",
   "execution_count": 298,
   "metadata": {},
   "outputs": [],
   "source": [
    "engineered_df.to_csv(f'data/05_engineered_features/{features_id}.csv')"
   ]
  },
  {
   "cell_type": "code",
   "execution_count": 299,
   "metadata": {},
   "outputs": [
    {
     "data": {
      "text/plain": [
       "return_1hrs_to_cutoff          0\n",
       "return_1hrs_to_1h              0\n",
       "btc_volume_1hrs_to_cutoff      0\n",
       "btc_volume_1hrs_to_1h          0\n",
       "coin_volume_1hrs_to_cutoff     0\n",
       "coin_volume_1hrs_to_1h         0\n",
       "return_3hrs_to_cutoff          0\n",
       "return_3hrs_to_1h              0\n",
       "btc_volume_3hrs_to_cutoff      0\n",
       "btc_volume_3hrs_to_1h          0\n",
       "coin_volume_3hrs_to_cutoff     0\n",
       "coin_volume_3hrs_to_1h         0\n",
       "return_12hrs_to_cutoff         0\n",
       "return_12hrs_to_1h             0\n",
       "btc_volume_12hrs_to_cutoff     0\n",
       "btc_volume_12hrs_to_1h         0\n",
       "coin_volume_12hrs_to_cutoff    0\n",
       "coin_volume_12hrs_to_1h        0\n",
       "return_24hrs_to_cutoff         0\n",
       "return_24hrs_to_1h             0\n",
       "btc_volume_24hrs_to_cutoff     0\n",
       "btc_volume_24hrs_to_1h         0\n",
       "coin_volume_24hrs_to_cutoff    0\n",
       "coin_volume_24hrs_to_1h        0\n",
       "return_36hrs_to_cutoff         0\n",
       "return_36hrs_to_1h             0\n",
       "btc_volume_36hrs_to_cutoff     0\n",
       "btc_volume_36hrs_to_1h         0\n",
       "coin_volume_36hrs_to_cutoff    0\n",
       "coin_volume_36hrs_to_1h        0\n",
       "return_48hrs_to_cutoff         0\n",
       "return_48hrs_to_1h             0\n",
       "btc_volume_48hrs_to_cutoff     0\n",
       "btc_volume_48hrs_to_1h         0\n",
       "coin_volume_48hrs_to_cutoff    0\n",
       "coin_volume_48hrs_to_1h        0\n",
       "return_60hrs_to_cutoff         0\n",
       "return_60hrs_to_1h             0\n",
       "btc_volume_60hrs_to_cutoff     0\n",
       "btc_volume_60hrs_to_1h         0\n",
       "coin_volume_60hrs_to_cutoff    0\n",
       "coin_volume_60hrs_to_1h        0\n",
       "return_72hrs_to_cutoff         0\n",
       "return_72hrs_to_1h             0\n",
       "btc_volume_72hrs_to_cutoff     0\n",
       "btc_volume_72hrs_to_1h         0\n",
       "coin_volume_72hrs_to_cutoff    0\n",
       "coin_volume_72hrs_to_1h        0\n",
       "pumped                         0\n",
       "symbol                         0\n",
       "market_cap                     0\n",
       "coin_age                       0\n",
       "dtype: int64"
      ]
     },
     "execution_count": 299,
     "metadata": {},
     "output_type": "execute_result"
    }
   ],
   "source": [
    "engineered_df.isna().sum()"
   ]
  },
  {
   "cell_type": "code",
   "execution_count": 300,
   "metadata": {},
   "outputs": [
    {
     "data": {
      "text/plain": [
       "Index(['return_1hrs_to_cutoff', 'return_1hrs_to_1h',\n",
       "       'btc_volume_1hrs_to_cutoff', 'btc_volume_1hrs_to_1h',\n",
       "       'coin_volume_1hrs_to_cutoff', 'coin_volume_1hrs_to_1h',\n",
       "       'return_3hrs_to_cutoff', 'return_3hrs_to_1h',\n",
       "       'btc_volume_3hrs_to_cutoff', 'btc_volume_3hrs_to_1h',\n",
       "       'coin_volume_3hrs_to_cutoff', 'coin_volume_3hrs_to_1h',\n",
       "       'return_12hrs_to_cutoff', 'return_12hrs_to_1h',\n",
       "       'btc_volume_12hrs_to_cutoff', 'btc_volume_12hrs_to_1h',\n",
       "       'coin_volume_12hrs_to_cutoff', 'coin_volume_12hrs_to_1h',\n",
       "       'return_24hrs_to_cutoff', 'return_24hrs_to_1h',\n",
       "       'btc_volume_24hrs_to_cutoff', 'btc_volume_24hrs_to_1h',\n",
       "       'coin_volume_24hrs_to_cutoff', 'coin_volume_24hrs_to_1h',\n",
       "       'return_36hrs_to_cutoff', 'return_36hrs_to_1h',\n",
       "       'btc_volume_36hrs_to_cutoff', 'btc_volume_36hrs_to_1h',\n",
       "       'coin_volume_36hrs_to_cutoff', 'coin_volume_36hrs_to_1h',\n",
       "       'return_48hrs_to_cutoff', 'return_48hrs_to_1h',\n",
       "       'btc_volume_48hrs_to_cutoff', 'btc_volume_48hrs_to_1h',\n",
       "       'coin_volume_48hrs_to_cutoff', 'coin_volume_48hrs_to_1h',\n",
       "       'return_60hrs_to_cutoff', 'return_60hrs_to_1h',\n",
       "       'btc_volume_60hrs_to_cutoff', 'btc_volume_60hrs_to_1h',\n",
       "       'coin_volume_60hrs_to_cutoff', 'coin_volume_60hrs_to_1h',\n",
       "       'return_72hrs_to_cutoff', 'return_72hrs_to_1h',\n",
       "       'btc_volume_72hrs_to_cutoff', 'btc_volume_72hrs_to_1h',\n",
       "       'coin_volume_72hrs_to_cutoff', 'coin_volume_72hrs_to_1h', 'pumped',\n",
       "       'symbol', 'market_cap', 'coin_age'],\n",
       "      dtype='object')"
      ]
     },
     "execution_count": 300,
     "metadata": {},
     "output_type": "execute_result"
    }
   ],
   "source": [
    "engineered_df.columns"
   ]
  },
  {
   "cell_type": "code",
   "execution_count": 301,
   "metadata": {},
   "outputs": [
    {
     "data": {
      "text/plain": [
       "26"
      ]
     },
     "execution_count": 301,
     "metadata": {},
     "output_type": "execute_result"
    }
   ],
   "source": [
    "engineered_df.pumped.sum()"
   ]
  }
 ],
 "metadata": {
  "interpreter": {
   "hash": "65dee9a9d1a923d78ab16c84a55db276e0248384890ce461db8ba4ddd71fba4b"
  },
  "kernelspec": {
   "display_name": "Python 3.9.10 ('busters')",
   "language": "python",
   "name": "python3"
  },
  "language_info": {
   "codemirror_mode": {
    "name": "ipython",
    "version": 3
   },
   "file_extension": ".py",
   "mimetype": "text/x-python",
   "name": "python",
   "nbconvert_exporter": "python",
   "pygments_lexer": "ipython3",
   "version": "3.9.10"
  },
  "orig_nbformat": 4
 },
 "nbformat": 4,
 "nbformat_minor": 2
}
