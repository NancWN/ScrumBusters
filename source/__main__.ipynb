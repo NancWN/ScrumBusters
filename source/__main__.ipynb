{
 "cells": [
  {
   "cell_type": "code",
   "execution_count": 3,
   "metadata": {},
   "outputs": [
    {
     "name": "stdout",
     "output_type": "stream",
     "text": [
      "G:\\Meine Ablage\\TechLabs\\Scam Busters\n"
     ]
    }
   ],
   "source": [
    "%cd G:\\Meine Ablage\\TechLabs\\Scam Busters"
   ]
  },
  {
   "cell_type": "code",
   "execution_count": 1,
   "metadata": {},
   "outputs": [],
   "source": [
    "# imports\n",
    "import pandas as pd\n",
    "import requests\n",
    "import aiohttp, asyncio, time\n",
    "import datetime as dt\n",
    "import pickle"
   ]
  },
  {
   "cell_type": "code",
   "execution_count": null,
   "metadata": {},
   "outputs": [],
   "source": [
    "# instantiate logging capabilities here\n",
    "import logging\n",
    "prediction_run_id = dt.datetime.now().strftime(\"%Y-%m-%d_%H%M%S\")\n",
    "logging_path = 'metadata/logging/prediction_'+prediction_run_id+'.log'\n",
    "logging.basicConfig(level=logging.DEBUG, filename=logging_path,force=True)\n",
    "logger = logging.getLogger(__name__)\n",
    "# logging.info('Run started')\n"
   ]
  },
  {
   "cell_type": "code",
   "execution_count": 4,
   "metadata": {},
   "outputs": [],
   "source": [
    "# load pairs\n",
    "with open('references/binance_btc_markets.pkl','rb') as f:\n",
    "    btc_markets = pickle.load(f)\n",
    "# check if new context data is available\n",
    "\n",
    "# request and save or load context data"
   ]
  },
  {
   "cell_type": "code",
   "execution_count": null,
   "metadata": {},
   "outputs": [],
   "source": [
    "# load the specified model\n",
    "# maybe load multiple models"
   ]
  },
  {
   "cell_type": "code",
   "execution_count": null,
   "metadata": {},
   "outputs": [],
   "source": [
    "# huge async part\n",
    "# request and save pre pump data\n",
    "# unpack data, combine with older data\n",
    "# run feature engineering\n",
    "# save the data\n",
    "\n",
    "# maybe add a custom time to run \n",
    "# so the data always gets requested at xx:55 or sth"
   ]
  },
  {
   "cell_type": "code",
   "execution_count": null,
   "metadata": {},
   "outputs": [],
   "source": [
    "# make predictions\n",
    "# store predictions"
   ]
  }
 ],
 "metadata": {
  "interpreter": {
   "hash": "65dee9a9d1a923d78ab16c84a55db276e0248384890ce461db8ba4ddd71fba4b"
  },
  "kernelspec": {
   "display_name": "Python 3.9.10 ('busters')",
   "language": "python",
   "name": "python3"
  },
  "language_info": {
   "codemirror_mode": {
    "name": "ipython",
    "version": 3
   },
   "file_extension": ".py",
   "mimetype": "text/x-python",
   "name": "python",
   "nbconvert_exporter": "python",
   "pygments_lexer": "ipython3",
   "version": "3.9.10"
  },
  "orig_nbformat": 4
 },
 "nbformat": 4,
 "nbformat_minor": 2
}
